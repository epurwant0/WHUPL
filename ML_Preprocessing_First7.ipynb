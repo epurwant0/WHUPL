{
 "cells": [
  {
   "cell_type": "code",
   "execution_count": 1,
   "metadata": {
    "collapsed": true
   },
   "outputs": [],
   "source": [
    "import pandas as pd\n",
    "from sklearn.model_selection import train_test_split\n",
    "from sklearn.preprocessing import StandardScaler, MinMaxScaler, LabelEncoder\n",
    "import numpy as np"
   ]
  },
  {
   "cell_type": "code",
   "execution_count": 2,
   "outputs": [],
   "source": [
    "xls = pd.ExcelFile('Resources/Car_Data.xlsx')\n",
    "df1 = pd.read_excel(xls, 'Volkswagon')\n",
    "df2 = pd.read_excel(xls, 'Toyota')\n",
    "df3 = pd.read_excel(xls, 'Porsche')\n",
    "df4 = pd.read_excel(xls, 'Mercedes')\n",
    "df5 = pd.read_excel(xls, 'Maserati')\n",
    "df6 = pd.read_excel(xls, 'Lincoln')\n",
    "df7 = pd.read_excel(xls, 'Lexus')\n",
    "# df8 = pd.read_excel(xls, 'Kia')\n",
    "# df9 = pd.read_excel(xls, 'Landrover')\n",
    "# df10 = pd.read_excel(xls, 'Volkswagon')\n",
    "# df11 = pd.read_excel(xls, 'Honda')\n",
    "# df12 = pd.read_excel(xls, 'Hyundai')\n",
    "# df13 = pd.read_excel(xls, 'Acura')\n",
    "# df14 = pd.read_excel(xls, 'Audi')\n",
    "# df15 = pd.read_excel(xls, 'BMW')\n"
   ],
   "metadata": {
    "collapsed": false,
    "pycharm": {
     "name": "#%%\n"
    }
   }
  },
  {
   "cell_type": "code",
   "execution_count": null,
   "outputs": [],
   "source": [
    "# df_list = [df1, df2, df3, df4, df5, df6, df7]\n"
   ],
   "metadata": {
    "collapsed": false,
    "pycharm": {
     "name": "#%%\n"
    }
   }
  },
  {
   "cell_type": "code",
   "execution_count": 3,
   "outputs": [],
   "source": [
    "def clean_data(df):\n",
    "    new_df = df.dropna(how='any')\n",
    "    new_df['formatted_sold_date'] = pd.to_datetime(new_df['sold_date'], format='%Y-%m-%d-%H.%M.%S.%f')\n",
    "    cc_df = new_df.drop(columns=['sold_date'])\n",
    "    cc_df['condition_grade'] = cc_df['condition_grade'].replace(\n",
    "    {'SL': 0, 'RG': 20, 'PR': 10, 'EC':50, 'CL':40, 'C': 40, 'AV':30, 'A': 30})\n",
    "\n",
    "    return cc_df\n"
   ],
   "metadata": {
    "collapsed": false,
    "pycharm": {
     "name": "#%%\n"
    }
   }
  },
  {
   "cell_type": "code",
   "execution_count": 4,
   "outputs": [
    {
     "name": "stderr",
     "output_type": "stream",
     "text": [
      "/var/folders/_k/3dfk2s110yz7b_7m_4y_7c8h0000gn/T/ipykernel_13176/2647848785.py:3: SettingWithCopyWarning: \n",
      "A value is trying to be set on a copy of a slice from a DataFrame.\n",
      "Try using .loc[row_indexer,col_indexer] = value instead\n",
      "\n",
      "See the caveats in the documentation: https://pandas.pydata.org/pandas-docs/stable/user_guide/indexing.html#returning-a-view-versus-a-copy\n",
      "  new_df['formatted_sold_date'] = pd.to_datetime(new_df['sold_date'], format='%Y-%m-%d-%H.%M.%S.%f')\n",
      "/var/folders/_k/3dfk2s110yz7b_7m_4y_7c8h0000gn/T/ipykernel_13176/2647848785.py:3: SettingWithCopyWarning: \n",
      "A value is trying to be set on a copy of a slice from a DataFrame.\n",
      "Try using .loc[row_indexer,col_indexer] = value instead\n",
      "\n",
      "See the caveats in the documentation: https://pandas.pydata.org/pandas-docs/stable/user_guide/indexing.html#returning-a-view-versus-a-copy\n",
      "  new_df['formatted_sold_date'] = pd.to_datetime(new_df['sold_date'], format='%Y-%m-%d-%H.%M.%S.%f')\n",
      "/var/folders/_k/3dfk2s110yz7b_7m_4y_7c8h0000gn/T/ipykernel_13176/2647848785.py:3: SettingWithCopyWarning: \n",
      "A value is trying to be set on a copy of a slice from a DataFrame.\n",
      "Try using .loc[row_indexer,col_indexer] = value instead\n",
      "\n",
      "See the caveats in the documentation: https://pandas.pydata.org/pandas-docs/stable/user_guide/indexing.html#returning-a-view-versus-a-copy\n",
      "  new_df['formatted_sold_date'] = pd.to_datetime(new_df['sold_date'], format='%Y-%m-%d-%H.%M.%S.%f')\n",
      "/var/folders/_k/3dfk2s110yz7b_7m_4y_7c8h0000gn/T/ipykernel_13176/2647848785.py:3: SettingWithCopyWarning: \n",
      "A value is trying to be set on a copy of a slice from a DataFrame.\n",
      "Try using .loc[row_indexer,col_indexer] = value instead\n",
      "\n",
      "See the caveats in the documentation: https://pandas.pydata.org/pandas-docs/stable/user_guide/indexing.html#returning-a-view-versus-a-copy\n",
      "  new_df['formatted_sold_date'] = pd.to_datetime(new_df['sold_date'], format='%Y-%m-%d-%H.%M.%S.%f')\n",
      "/var/folders/_k/3dfk2s110yz7b_7m_4y_7c8h0000gn/T/ipykernel_13176/2647848785.py:3: SettingWithCopyWarning: \n",
      "A value is trying to be set on a copy of a slice from a DataFrame.\n",
      "Try using .loc[row_indexer,col_indexer] = value instead\n",
      "\n",
      "See the caveats in the documentation: https://pandas.pydata.org/pandas-docs/stable/user_guide/indexing.html#returning-a-view-versus-a-copy\n",
      "  new_df['formatted_sold_date'] = pd.to_datetime(new_df['sold_date'], format='%Y-%m-%d-%H.%M.%S.%f')\n",
      "/var/folders/_k/3dfk2s110yz7b_7m_4y_7c8h0000gn/T/ipykernel_13176/2647848785.py:3: SettingWithCopyWarning: \n",
      "A value is trying to be set on a copy of a slice from a DataFrame.\n",
      "Try using .loc[row_indexer,col_indexer] = value instead\n",
      "\n",
      "See the caveats in the documentation: https://pandas.pydata.org/pandas-docs/stable/user_guide/indexing.html#returning-a-view-versus-a-copy\n",
      "  new_df['formatted_sold_date'] = pd.to_datetime(new_df['sold_date'], format='%Y-%m-%d-%H.%M.%S.%f')\n",
      "/var/folders/_k/3dfk2s110yz7b_7m_4y_7c8h0000gn/T/ipykernel_13176/2647848785.py:3: SettingWithCopyWarning: \n",
      "A value is trying to be set on a copy of a slice from a DataFrame.\n",
      "Try using .loc[row_indexer,col_indexer] = value instead\n",
      "\n",
      "See the caveats in the documentation: https://pandas.pydata.org/pandas-docs/stable/user_guide/indexing.html#returning-a-view-versus-a-copy\n",
      "  new_df['formatted_sold_date'] = pd.to_datetime(new_df['sold_date'], format='%Y-%m-%d-%H.%M.%S.%f')\n"
     ]
    }
   ],
   "source": [
    "clean_df1 = clean_data(df1)\n",
    "clean_df2 = clean_data(df2)\n",
    "clean_df3 = clean_data(df3)\n",
    "clean_df4 = clean_data(df4)\n",
    "clean_df5 = clean_data(df5)\n",
    "clean_df6 = clean_data(df6)\n",
    "clean_df7 = clean_data(df7)\n",
    "# for df in df_list:\n",
    "#     clean_data(df)"
   ],
   "metadata": {
    "collapsed": false,
    "pycharm": {
     "name": "#%%\n"
    }
   }
  },
  {
   "cell_type": "code",
   "execution_count": 5,
   "outputs": [
    {
     "data": {
      "text/plain": "  auction_code  car_year   color        make       model subseries  body  \\\n1         AYCA      2009   BLACK  VOLKSWAGEN  TIGUAN AWD       SEL   SUV   \n2         AYCA      2009  SILVER  VOLKSWAGEN      ROUTAN        SE   VAN   \n3         AYCA      2014     TAN  VOLKSWAGEN    JETTA 4C        SE  4DSN   \n6         NADE      2012   BLACK  VOLKSWAGEN  TIGUAN FWD        LE   SUV   \n7         GOAA      2016   WHITE  VOLKSWAGEN   PASSAT 4C    1.8T S  4DSN   \n\n  engine transmission  mileage  condition_grade  times_run     seller  \\\n1    4GT            A  96696.0               34        1.0  5177137.0   \n2     6G            A  92321.0               31        1.0  4925422.0   \n3    4GT            A  70568.0               27        1.0  4925422.0   \n6    4GT            A  85124.0               38        6.0  5322633.0   \n7    4GT            A  16947.0               46        2.0  4905415.0   \n\n   sale_price formatted_sold_date  \n1      7100.0          2017-01-02  \n2      5800.0          2017-01-02  \n3      4500.0          2017-01-02  \n6      8300.0          2017-01-02  \n7     13800.0          2017-01-02  ",
      "text/html": "<div>\n<style scoped>\n    .dataframe tbody tr th:only-of-type {\n        vertical-align: middle;\n    }\n\n    .dataframe tbody tr th {\n        vertical-align: top;\n    }\n\n    .dataframe thead th {\n        text-align: right;\n    }\n</style>\n<table border=\"1\" class=\"dataframe\">\n  <thead>\n    <tr style=\"text-align: right;\">\n      <th></th>\n      <th>auction_code</th>\n      <th>car_year</th>\n      <th>color</th>\n      <th>make</th>\n      <th>model</th>\n      <th>subseries</th>\n      <th>body</th>\n      <th>engine</th>\n      <th>transmission</th>\n      <th>mileage</th>\n      <th>condition_grade</th>\n      <th>times_run</th>\n      <th>seller</th>\n      <th>sale_price</th>\n      <th>formatted_sold_date</th>\n    </tr>\n  </thead>\n  <tbody>\n    <tr>\n      <th>1</th>\n      <td>AYCA</td>\n      <td>2009</td>\n      <td>BLACK</td>\n      <td>VOLKSWAGEN</td>\n      <td>TIGUAN AWD</td>\n      <td>SEL</td>\n      <td>SUV</td>\n      <td>4GT</td>\n      <td>A</td>\n      <td>96696.0</td>\n      <td>34</td>\n      <td>1.0</td>\n      <td>5177137.0</td>\n      <td>7100.0</td>\n      <td>2017-01-02</td>\n    </tr>\n    <tr>\n      <th>2</th>\n      <td>AYCA</td>\n      <td>2009</td>\n      <td>SILVER</td>\n      <td>VOLKSWAGEN</td>\n      <td>ROUTAN</td>\n      <td>SE</td>\n      <td>VAN</td>\n      <td>6G</td>\n      <td>A</td>\n      <td>92321.0</td>\n      <td>31</td>\n      <td>1.0</td>\n      <td>4925422.0</td>\n      <td>5800.0</td>\n      <td>2017-01-02</td>\n    </tr>\n    <tr>\n      <th>3</th>\n      <td>AYCA</td>\n      <td>2014</td>\n      <td>TAN</td>\n      <td>VOLKSWAGEN</td>\n      <td>JETTA 4C</td>\n      <td>SE</td>\n      <td>4DSN</td>\n      <td>4GT</td>\n      <td>A</td>\n      <td>70568.0</td>\n      <td>27</td>\n      <td>1.0</td>\n      <td>4925422.0</td>\n      <td>4500.0</td>\n      <td>2017-01-02</td>\n    </tr>\n    <tr>\n      <th>6</th>\n      <td>NADE</td>\n      <td>2012</td>\n      <td>BLACK</td>\n      <td>VOLKSWAGEN</td>\n      <td>TIGUAN FWD</td>\n      <td>LE</td>\n      <td>SUV</td>\n      <td>4GT</td>\n      <td>A</td>\n      <td>85124.0</td>\n      <td>38</td>\n      <td>6.0</td>\n      <td>5322633.0</td>\n      <td>8300.0</td>\n      <td>2017-01-02</td>\n    </tr>\n    <tr>\n      <th>7</th>\n      <td>GOAA</td>\n      <td>2016</td>\n      <td>WHITE</td>\n      <td>VOLKSWAGEN</td>\n      <td>PASSAT 4C</td>\n      <td>1.8T S</td>\n      <td>4DSN</td>\n      <td>4GT</td>\n      <td>A</td>\n      <td>16947.0</td>\n      <td>46</td>\n      <td>2.0</td>\n      <td>4905415.0</td>\n      <td>13800.0</td>\n      <td>2017-01-02</td>\n    </tr>\n  </tbody>\n</table>\n</div>"
     },
     "execution_count": 5,
     "metadata": {},
     "output_type": "execute_result"
    }
   ],
   "source": [
    "clean_df1.head()"
   ],
   "metadata": {
    "collapsed": false,
    "pycharm": {
     "name": "#%%\n"
    }
   }
  },
  {
   "cell_type": "code",
   "execution_count": 6,
   "outputs": [
    {
     "name": "stdout",
     "output_type": "stream",
     "text": [
      "Duplicate entries 1: 0\n",
      "Duplicate entries 2: 0\n",
      "Duplicate entries 3: 0\n",
      "Duplicate entries 4: 0\n",
      "Duplicate entries 5: 0\n",
      "Duplicate entries 6: 1\n",
      "Duplicate entries 7: 0\n"
     ]
    }
   ],
   "source": [
    "print(f\"Duplicate entries 1: {clean_df1.duplicated().sum()}\")\n",
    "print(f\"Duplicate entries 2: {clean_df2.duplicated().sum()}\")\n",
    "print(f\"Duplicate entries 3: {clean_df3.duplicated().sum()}\")\n",
    "print(f\"Duplicate entries 4: {clean_df4.duplicated().sum()}\")\n",
    "print(f\"Duplicate entries 5: {clean_df5.duplicated().sum()}\")\n",
    "print(f\"Duplicate entries 6: {clean_df6.duplicated().sum()}\")\n",
    "print(f\"Duplicate entries 7: {clean_df7.duplicated().sum()}\")"
   ],
   "metadata": {
    "collapsed": false,
    "pycharm": {
     "name": "#%%\n"
    }
   }
  },
  {
   "cell_type": "code",
   "execution_count": 7,
   "outputs": [
    {
     "name": "stdout",
     "output_type": "stream",
     "text": [
      "Duplicate entries 6: 0\n"
     ]
    }
   ],
   "source": [
    "no_dups_df6 = clean_df6.drop_duplicates()\n",
    "print(f\"Duplicate entries 6: {no_dups_df6.duplicated().sum()}\")\n"
   ],
   "metadata": {
    "collapsed": false,
    "pycharm": {
     "name": "#%%\n"
    }
   }
  },
  {
   "cell_type": "code",
   "execution_count": 8,
   "outputs": [
    {
     "data": {
      "text/plain": "37    764\n42    724\n41    685\n43    684\n46    663\n44    663\n45    656\n36    649\n39    592\n40    577\n38    575\n35    573\n28    409\n34    397\n29    357\n50    340\n27    310\n33    282\n26    279\n32    245\n48    245\n25    242\n31    240\n47    227\n24    223\n30    213\n49    183\n21    150\n23    148\n20    133\n22    113\n19     94\n17     76\n13     74\n18     68\n16     50\n10     45\n15     36\n14     29\n0       7\n12      1\n11      1\nName: condition_grade, dtype: int64"
     },
     "execution_count": 8,
     "metadata": {},
     "output_type": "execute_result"
    }
   ],
   "source": [
    "clean_df7['condition_grade'].value_counts()"
   ],
   "metadata": {
    "collapsed": false,
    "pycharm": {
     "name": "#%%\n"
    }
   }
  },
  {
   "cell_type": "code",
   "execution_count": 9,
   "outputs": [
    {
     "data": {
      "text/plain": "auction_code                   object\ncar_year                        int64\ncolor                          object\nmake                           object\nmodel                          object\nsubseries                      object\nbody                           object\nengine                         object\ntransmission                   object\nmileage                       float64\ncondition_grade                 int64\ntimes_run                     float64\nseller                        float64\nsale_price                    float64\nformatted_sold_date    datetime64[ns]\ndtype: object"
     },
     "execution_count": 9,
     "metadata": {},
     "output_type": "execute_result"
    }
   ],
   "source": [
    "clean_df1.dtypes"
   ],
   "metadata": {
    "collapsed": false,
    "pycharm": {
     "name": "#%%\n"
    }
   }
  },
  {
   "cell_type": "code",
   "execution_count": 10,
   "outputs": [],
   "source": [
    "# write out csv's to output folder\n",
    "clean_df1.to_csv('Output/Volkswagon.csv', index=False, header=True)\n",
    "clean_df2.to_csv('Output/Toyota.csv', index=False, header=True)\n",
    "clean_df3.to_csv('Output/Porsche.csv', index=False, header=True)\n",
    "clean_df4.to_csv('Output/Mercedes.csv', index=False, header=True)\n",
    "clean_df5.to_csv('Output/Maserati.csv', index=False, header=True)\n",
    "clean_df6.to_csv('Output/Lincoln.csv', index=False, header=True)\n",
    "clean_df7.to_csv('Output/Lexus.csv', index=False, header=True)\n"
   ],
   "metadata": {
    "collapsed": false,
    "pycharm": {
     "name": "#%%\n"
    }
   }
  },
  {
   "cell_type": "code",
   "execution_count": null,
   "outputs": [],
   "source": [
    "df1_dummies = pd.get_dummies(clean_df1)\n",
    "df2_dummies = pd.get_dummies(clean_df2)\n",
    "df3_dummies = pd.get_dummies(clean_df3)\n",
    "df4_dummies = pd.get_dummies(clean_df4)\n",
    "df5_dummies = pd.get_dummies(clean_df5)\n",
    "df6_dummies = pd.get_dummies(clean_df6)\n",
    "df7_dummies = pd.get_dummies(clean_df7)"
   ],
   "metadata": {
    "collapsed": false,
    "pycharm": {
     "name": "#%%\n"
    }
   }
  },
  {
   "cell_type": "code",
   "execution_count": null,
   "outputs": [],
   "source": [
    "# Drop the label to create the X data\n",
    "X_1 = df1_dummies.drop('sale_price', axis=1)\n",
    "X_2 = df2_dummies.drop('sale_price', axis=1)\n",
    "X_3 = df3_dummies.drop('sale_price', axis=1)\n",
    "X_4 = df4_dummies.drop('sale_price', axis=1)\n",
    "X_5 = df5_dummies.drop('sale_price', axis=1)\n",
    "X_6 = df6_dummies.drop('sale_price', axis=1)\n",
    "X_7 = df7_dummies.drop('sale_price', axis=1)\n"
   ],
   "metadata": {
    "collapsed": false,
    "pycharm": {
     "name": "#%%\n"
    }
   }
  },
  {
   "cell_type": "code",
   "execution_count": null,
   "outputs": [],
   "source": [
    "y_1 = df1_dummies[\"sale_price\"]\n",
    "y_2 = df2_dummies[\"sale_price\"]\n",
    "y_3 = df3_dummies[\"sale_price\"]\n",
    "y_4 = df4_dummies[\"sale_price\"]\n",
    "y_5 = df5_dummies[\"sale_price\"]\n",
    "y_6 = df6_dummies[\"sale_price\"]\n",
    "y_7 = df7_dummies[\"sale_price\"]"
   ],
   "metadata": {
    "collapsed": false,
    "pycharm": {
     "name": "#%%\n"
    }
   }
  },
  {
   "cell_type": "code",
   "execution_count": null,
   "outputs": [],
   "source": [
    "X_train1, X_test1, y_train1, y_test1 = train_test_split(X_1, y_1, random_state=1)\n",
    "X_train2, X_test2, y_train2, y_test2 = train_test_split(X_2, y_2, random_state=1)\n",
    "X_train3, X_test3, y_train3, y_test3 = train_test_split(X_3, y_3, random_state=1)\n",
    "X_train4, X_test4, y_train4, y_test4 = train_test_split(X_4, y_4, random_state=1)\n",
    "X_train5, X_test5, y_train5, y_test5 = train_test_split(X_5, y_5, random_state=1)\n",
    "X_train6, X_test6, y_train6, y_test6 = train_test_split(X_6, y_6, random_state=1)\n",
    "X_train7, X_test7, y_train7, y_test7 = train_test_split(X_7, y_7, random_state=1)"
   ],
   "metadata": {
    "collapsed": false,
    "pycharm": {
     "name": "#%%\n"
    }
   }
  },
  {
   "cell_type": "code",
   "execution_count": null,
   "outputs": [],
   "source": [
    "# Scaling the X data by using StandardScaler()\n",
    "scaler1 = StandardScaler().fit(X_train1)\n",
    "X_train_scaled1 = scaler.transform(X_train1)\n",
    "X_train_scaled1"
   ],
   "metadata": {
    "collapsed": false,
    "pycharm": {
     "name": "#%%\n"
    }
   }
  },
  {
   "cell_type": "code",
   "execution_count": null,
   "outputs": [],
   "source": [
    "# Scale the data\n",
    "from sklearn.preprocessing import StandardScaler\n",
    "scaler = StandardScaler()\n",
    "scaled_data = scaler.fit_transform(df_shopping[['Age', 'Annual Income', 'Spending Score (1-100)']])"
   ],
   "metadata": {
    "collapsed": false,
    "pycharm": {
     "name": "#%%\n"
    }
   }
  },
  {
   "cell_type": "code",
   "execution_count": null,
   "outputs": [],
   "source": [],
   "metadata": {
    "collapsed": false,
    "pycharm": {
     "name": "#%%\n"
    }
   }
  },
  {
   "cell_type": "code",
   "execution_count": null,
   "outputs": [],
   "source": [],
   "metadata": {
    "collapsed": false,
    "pycharm": {
     "name": "#%%\n"
    }
   }
  },
  {
   "cell_type": "code",
   "execution_count": null,
   "outputs": [],
   "source": [],
   "metadata": {
    "collapsed": false,
    "pycharm": {
     "name": "#%%\n"
    }
   }
  },
  {
   "cell_type": "code",
   "execution_count": null,
   "outputs": [],
   "source": [],
   "metadata": {
    "collapsed": false,
    "pycharm": {
     "name": "#%%\n"
    }
   }
  },
  {
   "cell_type": "code",
   "execution_count": null,
   "outputs": [],
   "source": [],
   "metadata": {
    "collapsed": false,
    "pycharm": {
     "name": "#%%\n"
    }
   }
  }
 ],
 "metadata": {
  "kernelspec": {
   "display_name": "Python 3",
   "language": "python",
   "name": "python3"
  },
  "language_info": {
   "codemirror_mode": {
    "name": "ipython",
    "version": 2
   },
   "file_extension": ".py",
   "mimetype": "text/x-python",
   "name": "python",
   "nbconvert_exporter": "python",
   "pygments_lexer": "ipython2",
   "version": "2.7.6"
  }
 },
 "nbformat": 4,
 "nbformat_minor": 0
}