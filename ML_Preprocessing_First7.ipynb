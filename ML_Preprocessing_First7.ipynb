{
 "cells": [
  {
   "cell_type": "code",
   "execution_count": 1,
   "metadata": {
    "collapsed": true
   },
   "outputs": [],
   "source": [
    "import pandas as pd\n",
    "from sklearn.model_selection import train_test_split\n",
    "from sklearn.preprocessing import StandardScaler, MinMaxScaler, LabelEncoder\n",
    "import numpy as np"
   ]
  },
  {
   "cell_type": "code",
   "execution_count": 2,
   "outputs": [],
   "source": [
    "xls = pd.ExcelFile('Resources/Car_Data.xlsx')\n",
    "df1 = pd.read_excel(xls, 'Volkswagon')\n",
    "df2 = pd.read_excel(xls, 'Toyota')\n",
    "df3 = pd.read_excel(xls, 'Porsche')\n",
    "df4 = pd.read_excel(xls, 'Mercedes')\n",
    "df5 = pd.read_excel(xls, 'Maserati')\n",
    "df6 = pd.read_excel(xls, 'Lincoln')\n",
    "df7 = pd.read_excel(xls, 'Lexus')\n",
    "# df8 = pd.read_excel(xls, 'Kia')\n",
    "# df9 = pd.read_excel(xls, 'Landrover')\n",
    "# df10 = pd.read_excel(xls, 'Volkswagon')\n",
    "# df11 = pd.read_excel(xls, 'Honda')\n",
    "# df12 = pd.read_excel(xls, 'Hyundai')\n",
    "# df13 = pd.read_excel(xls, 'Acura')\n",
    "# df14 = pd.read_excel(xls, 'Audi')\n",
    "# df15 = pd.read_excel(xls, 'BMW')\n"
   ],
   "metadata": {
    "collapsed": false,
    "pycharm": {
     "name": "#%%\n"
    }
   }
  },
  {
   "cell_type": "code",
   "execution_count": 3,
   "outputs": [],
   "source": [
    "# df_list = [df1, df2, df3, df4, df5, df6, df7]\n"
   ],
   "metadata": {
    "collapsed": false,
    "pycharm": {
     "name": "#%%\n"
    }
   }
  },
  {
   "cell_type": "code",
   "execution_count": 3,
   "outputs": [],
   "source": [
    "def clean_data(df):\n",
    "    new_df = df.dropna(how='any')\n",
    "    new_df['formatted_sold_date'] = pd.to_datetime(new_df['sold_date'], format='%Y-%m-%d-%H.%M.%S.%f')\n",
    "    cc_df = new_df.drop(columns=['sold_date'])\n",
    "    cc_df['condition_grade'] = cc_df['condition_grade'].replace(\n",
    "    {'SL': 0, 'RG': 20, 'PR': 10, 'EC':50, 'CL':40, 'C': 40, 'AV':30, 'A': 30})\n",
    "    cc_df['sold_date_year'] = cc_df['formatted_sold_date'].dt.year\n",
    "    cc_df['sold_date_month'] = cc_df['formatted_sold_date'].dt.month\n",
    "    cc_df['sold_date_week'] = cc_df['formatted_sold_date'].dt.isocalendar().week\n",
    "    cc_df['sold_date_day'] = cc_df['formatted_sold_date'].dt.day\n",
    "    drop_df = cc_df.drop(columns=['formatted_sold_date'])\n",
    "\n",
    "    return drop_df\n"
   ],
   "metadata": {
    "collapsed": false,
    "pycharm": {
     "name": "#%%\n"
    }
   }
  },
  {
   "cell_type": "code",
   "execution_count": 4,
   "outputs": [
    {
     "name": "stderr",
     "output_type": "stream",
     "text": [
      "/var/folders/_k/3dfk2s110yz7b_7m_4y_7c8h0000gn/T/ipykernel_16030/2189191463.py:3: SettingWithCopyWarning: \n",
      "A value is trying to be set on a copy of a slice from a DataFrame.\n",
      "Try using .loc[row_indexer,col_indexer] = value instead\n",
      "\n",
      "See the caveats in the documentation: https://pandas.pydata.org/pandas-docs/stable/user_guide/indexing.html#returning-a-view-versus-a-copy\n",
      "  new_df['formatted_sold_date'] = pd.to_datetime(new_df['sold_date'], format='%Y-%m-%d-%H.%M.%S.%f')\n",
      "/var/folders/_k/3dfk2s110yz7b_7m_4y_7c8h0000gn/T/ipykernel_16030/2189191463.py:3: SettingWithCopyWarning: \n",
      "A value is trying to be set on a copy of a slice from a DataFrame.\n",
      "Try using .loc[row_indexer,col_indexer] = value instead\n",
      "\n",
      "See the caveats in the documentation: https://pandas.pydata.org/pandas-docs/stable/user_guide/indexing.html#returning-a-view-versus-a-copy\n",
      "  new_df['formatted_sold_date'] = pd.to_datetime(new_df['sold_date'], format='%Y-%m-%d-%H.%M.%S.%f')\n",
      "/var/folders/_k/3dfk2s110yz7b_7m_4y_7c8h0000gn/T/ipykernel_16030/2189191463.py:3: SettingWithCopyWarning: \n",
      "A value is trying to be set on a copy of a slice from a DataFrame.\n",
      "Try using .loc[row_indexer,col_indexer] = value instead\n",
      "\n",
      "See the caveats in the documentation: https://pandas.pydata.org/pandas-docs/stable/user_guide/indexing.html#returning-a-view-versus-a-copy\n",
      "  new_df['formatted_sold_date'] = pd.to_datetime(new_df['sold_date'], format='%Y-%m-%d-%H.%M.%S.%f')\n",
      "/var/folders/_k/3dfk2s110yz7b_7m_4y_7c8h0000gn/T/ipykernel_16030/2189191463.py:3: SettingWithCopyWarning: \n",
      "A value is trying to be set on a copy of a slice from a DataFrame.\n",
      "Try using .loc[row_indexer,col_indexer] = value instead\n",
      "\n",
      "See the caveats in the documentation: https://pandas.pydata.org/pandas-docs/stable/user_guide/indexing.html#returning-a-view-versus-a-copy\n",
      "  new_df['formatted_sold_date'] = pd.to_datetime(new_df['sold_date'], format='%Y-%m-%d-%H.%M.%S.%f')\n",
      "/var/folders/_k/3dfk2s110yz7b_7m_4y_7c8h0000gn/T/ipykernel_16030/2189191463.py:3: SettingWithCopyWarning: \n",
      "A value is trying to be set on a copy of a slice from a DataFrame.\n",
      "Try using .loc[row_indexer,col_indexer] = value instead\n",
      "\n",
      "See the caveats in the documentation: https://pandas.pydata.org/pandas-docs/stable/user_guide/indexing.html#returning-a-view-versus-a-copy\n",
      "  new_df['formatted_sold_date'] = pd.to_datetime(new_df['sold_date'], format='%Y-%m-%d-%H.%M.%S.%f')\n",
      "/var/folders/_k/3dfk2s110yz7b_7m_4y_7c8h0000gn/T/ipykernel_16030/2189191463.py:3: SettingWithCopyWarning: \n",
      "A value is trying to be set on a copy of a slice from a DataFrame.\n",
      "Try using .loc[row_indexer,col_indexer] = value instead\n",
      "\n",
      "See the caveats in the documentation: https://pandas.pydata.org/pandas-docs/stable/user_guide/indexing.html#returning-a-view-versus-a-copy\n",
      "  new_df['formatted_sold_date'] = pd.to_datetime(new_df['sold_date'], format='%Y-%m-%d-%H.%M.%S.%f')\n",
      "/var/folders/_k/3dfk2s110yz7b_7m_4y_7c8h0000gn/T/ipykernel_16030/2189191463.py:3: SettingWithCopyWarning: \n",
      "A value is trying to be set on a copy of a slice from a DataFrame.\n",
      "Try using .loc[row_indexer,col_indexer] = value instead\n",
      "\n",
      "See the caveats in the documentation: https://pandas.pydata.org/pandas-docs/stable/user_guide/indexing.html#returning-a-view-versus-a-copy\n",
      "  new_df['formatted_sold_date'] = pd.to_datetime(new_df['sold_date'], format='%Y-%m-%d-%H.%M.%S.%f')\n"
     ]
    }
   ],
   "source": [
    "clean_df1 = clean_data(df1)\n",
    "clean_df2 = clean_data(df2)\n",
    "clean_df3 = clean_data(df3)\n",
    "clean_df4 = clean_data(df4)\n",
    "clean_df5 = clean_data(df5)\n",
    "clean_df6 = clean_data(df6)\n",
    "clean_df7 = clean_data(df7)\n",
    "# for df in df_list:\n",
    "#     clean_data(df)"
   ],
   "metadata": {
    "collapsed": false,
    "pycharm": {
     "name": "#%%\n"
    }
   }
  },
  {
   "cell_type": "code",
   "execution_count": null,
   "outputs": [],
   "source": [
    "# clean_df1['sold_date_year'] = clean_df1['formatted_sold_date'].dt.year\n",
    "# clean_df1['sold_date_month'] = clean_df1['formatted_sold_date'].dt.month\n",
    "# clean_df1['sold_date_week'] = clean_df1['formatted_sold_date'].dt.isocalendar().week\n",
    "# clean_df1['sold_date_day'] = clean_df1['formatted_sold_date'].dt.day"
   ],
   "metadata": {
    "collapsed": false,
    "pycharm": {
     "name": "#%%\n"
    }
   }
  },
  {
   "cell_type": "code",
   "execution_count": 5,
   "outputs": [
    {
     "data": {
      "text/plain": "  auction_code  car_year   color        make       model subseries  body  \\\n1         AYCA      2009   BLACK  VOLKSWAGEN  TIGUAN AWD       SEL   SUV   \n2         AYCA      2009  SILVER  VOLKSWAGEN      ROUTAN        SE   VAN   \n3         AYCA      2014     TAN  VOLKSWAGEN    JETTA 4C        SE  4DSN   \n6         NADE      2012   BLACK  VOLKSWAGEN  TIGUAN FWD        LE   SUV   \n7         GOAA      2016   WHITE  VOLKSWAGEN   PASSAT 4C    1.8T S  4DSN   \n\n  engine transmission  mileage  condition_grade  times_run     seller  \\\n1    4GT            A  96696.0               34        1.0  5177137.0   \n2     6G            A  92321.0               31        1.0  4925422.0   \n3    4GT            A  70568.0               27        1.0  4925422.0   \n6    4GT            A  85124.0               38        6.0  5322633.0   \n7    4GT            A  16947.0               46        2.0  4905415.0   \n\n   sale_price  sold_date_year  sold_date_month  sold_date_week  sold_date_day  \n1      7100.0            2017                1               1              2  \n2      5800.0            2017                1               1              2  \n3      4500.0            2017                1               1              2  \n6      8300.0            2017                1               1              2  \n7     13800.0            2017                1               1              2  ",
      "text/html": "<div>\n<style scoped>\n    .dataframe tbody tr th:only-of-type {\n        vertical-align: middle;\n    }\n\n    .dataframe tbody tr th {\n        vertical-align: top;\n    }\n\n    .dataframe thead th {\n        text-align: right;\n    }\n</style>\n<table border=\"1\" class=\"dataframe\">\n  <thead>\n    <tr style=\"text-align: right;\">\n      <th></th>\n      <th>auction_code</th>\n      <th>car_year</th>\n      <th>color</th>\n      <th>make</th>\n      <th>model</th>\n      <th>subseries</th>\n      <th>body</th>\n      <th>engine</th>\n      <th>transmission</th>\n      <th>mileage</th>\n      <th>condition_grade</th>\n      <th>times_run</th>\n      <th>seller</th>\n      <th>sale_price</th>\n      <th>sold_date_year</th>\n      <th>sold_date_month</th>\n      <th>sold_date_week</th>\n      <th>sold_date_day</th>\n    </tr>\n  </thead>\n  <tbody>\n    <tr>\n      <th>1</th>\n      <td>AYCA</td>\n      <td>2009</td>\n      <td>BLACK</td>\n      <td>VOLKSWAGEN</td>\n      <td>TIGUAN AWD</td>\n      <td>SEL</td>\n      <td>SUV</td>\n      <td>4GT</td>\n      <td>A</td>\n      <td>96696.0</td>\n      <td>34</td>\n      <td>1.0</td>\n      <td>5177137.0</td>\n      <td>7100.0</td>\n      <td>2017</td>\n      <td>1</td>\n      <td>1</td>\n      <td>2</td>\n    </tr>\n    <tr>\n      <th>2</th>\n      <td>AYCA</td>\n      <td>2009</td>\n      <td>SILVER</td>\n      <td>VOLKSWAGEN</td>\n      <td>ROUTAN</td>\n      <td>SE</td>\n      <td>VAN</td>\n      <td>6G</td>\n      <td>A</td>\n      <td>92321.0</td>\n      <td>31</td>\n      <td>1.0</td>\n      <td>4925422.0</td>\n      <td>5800.0</td>\n      <td>2017</td>\n      <td>1</td>\n      <td>1</td>\n      <td>2</td>\n    </tr>\n    <tr>\n      <th>3</th>\n      <td>AYCA</td>\n      <td>2014</td>\n      <td>TAN</td>\n      <td>VOLKSWAGEN</td>\n      <td>JETTA 4C</td>\n      <td>SE</td>\n      <td>4DSN</td>\n      <td>4GT</td>\n      <td>A</td>\n      <td>70568.0</td>\n      <td>27</td>\n      <td>1.0</td>\n      <td>4925422.0</td>\n      <td>4500.0</td>\n      <td>2017</td>\n      <td>1</td>\n      <td>1</td>\n      <td>2</td>\n    </tr>\n    <tr>\n      <th>6</th>\n      <td>NADE</td>\n      <td>2012</td>\n      <td>BLACK</td>\n      <td>VOLKSWAGEN</td>\n      <td>TIGUAN FWD</td>\n      <td>LE</td>\n      <td>SUV</td>\n      <td>4GT</td>\n      <td>A</td>\n      <td>85124.0</td>\n      <td>38</td>\n      <td>6.0</td>\n      <td>5322633.0</td>\n      <td>8300.0</td>\n      <td>2017</td>\n      <td>1</td>\n      <td>1</td>\n      <td>2</td>\n    </tr>\n    <tr>\n      <th>7</th>\n      <td>GOAA</td>\n      <td>2016</td>\n      <td>WHITE</td>\n      <td>VOLKSWAGEN</td>\n      <td>PASSAT 4C</td>\n      <td>1.8T S</td>\n      <td>4DSN</td>\n      <td>4GT</td>\n      <td>A</td>\n      <td>16947.0</td>\n      <td>46</td>\n      <td>2.0</td>\n      <td>4905415.0</td>\n      <td>13800.0</td>\n      <td>2017</td>\n      <td>1</td>\n      <td>1</td>\n      <td>2</td>\n    </tr>\n  </tbody>\n</table>\n</div>"
     },
     "execution_count": 5,
     "metadata": {},
     "output_type": "execute_result"
    }
   ],
   "source": [
    "clean_df1.head()"
   ],
   "metadata": {
    "collapsed": false,
    "pycharm": {
     "name": "#%%\n"
    }
   }
  },
  {
   "cell_type": "code",
   "execution_count": 5,
   "outputs": [
    {
     "data": {
      "text/plain": "  auction_code  car_year   color        make       model subseries  body  \\\n1         AYCA      2009   BLACK  VOLKSWAGEN  TIGUAN AWD       SEL   SUV   \n2         AYCA      2009  SILVER  VOLKSWAGEN      ROUTAN        SE   VAN   \n3         AYCA      2014     TAN  VOLKSWAGEN    JETTA 4C        SE  4DSN   \n6         NADE      2012   BLACK  VOLKSWAGEN  TIGUAN FWD        LE   SUV   \n7         GOAA      2016   WHITE  VOLKSWAGEN   PASSAT 4C    1.8T S  4DSN   \n\n  engine transmission  mileage  condition_grade  times_run     seller  \\\n1    4GT            A  96696.0               34        1.0  5177137.0   \n2     6G            A  92321.0               31        1.0  4925422.0   \n3    4GT            A  70568.0               27        1.0  4925422.0   \n6    4GT            A  85124.0               38        6.0  5322633.0   \n7    4GT            A  16947.0               46        2.0  4905415.0   \n\n   sale_price formatted_sold_date  \n1      7100.0          2017-01-02  \n2      5800.0          2017-01-02  \n3      4500.0          2017-01-02  \n6      8300.0          2017-01-02  \n7     13800.0          2017-01-02  ",
      "text/html": "<div>\n<style scoped>\n    .dataframe tbody tr th:only-of-type {\n        vertical-align: middle;\n    }\n\n    .dataframe tbody tr th {\n        vertical-align: top;\n    }\n\n    .dataframe thead th {\n        text-align: right;\n    }\n</style>\n<table border=\"1\" class=\"dataframe\">\n  <thead>\n    <tr style=\"text-align: right;\">\n      <th></th>\n      <th>auction_code</th>\n      <th>car_year</th>\n      <th>color</th>\n      <th>make</th>\n      <th>model</th>\n      <th>subseries</th>\n      <th>body</th>\n      <th>engine</th>\n      <th>transmission</th>\n      <th>mileage</th>\n      <th>condition_grade</th>\n      <th>times_run</th>\n      <th>seller</th>\n      <th>sale_price</th>\n      <th>formatted_sold_date</th>\n    </tr>\n  </thead>\n  <tbody>\n    <tr>\n      <th>1</th>\n      <td>AYCA</td>\n      <td>2009</td>\n      <td>BLACK</td>\n      <td>VOLKSWAGEN</td>\n      <td>TIGUAN AWD</td>\n      <td>SEL</td>\n      <td>SUV</td>\n      <td>4GT</td>\n      <td>A</td>\n      <td>96696.0</td>\n      <td>34</td>\n      <td>1.0</td>\n      <td>5177137.0</td>\n      <td>7100.0</td>\n      <td>2017-01-02</td>\n    </tr>\n    <tr>\n      <th>2</th>\n      <td>AYCA</td>\n      <td>2009</td>\n      <td>SILVER</td>\n      <td>VOLKSWAGEN</td>\n      <td>ROUTAN</td>\n      <td>SE</td>\n      <td>VAN</td>\n      <td>6G</td>\n      <td>A</td>\n      <td>92321.0</td>\n      <td>31</td>\n      <td>1.0</td>\n      <td>4925422.0</td>\n      <td>5800.0</td>\n      <td>2017-01-02</td>\n    </tr>\n    <tr>\n      <th>3</th>\n      <td>AYCA</td>\n      <td>2014</td>\n      <td>TAN</td>\n      <td>VOLKSWAGEN</td>\n      <td>JETTA 4C</td>\n      <td>SE</td>\n      <td>4DSN</td>\n      <td>4GT</td>\n      <td>A</td>\n      <td>70568.0</td>\n      <td>27</td>\n      <td>1.0</td>\n      <td>4925422.0</td>\n      <td>4500.0</td>\n      <td>2017-01-02</td>\n    </tr>\n    <tr>\n      <th>6</th>\n      <td>NADE</td>\n      <td>2012</td>\n      <td>BLACK</td>\n      <td>VOLKSWAGEN</td>\n      <td>TIGUAN FWD</td>\n      <td>LE</td>\n      <td>SUV</td>\n      <td>4GT</td>\n      <td>A</td>\n      <td>85124.0</td>\n      <td>38</td>\n      <td>6.0</td>\n      <td>5322633.0</td>\n      <td>8300.0</td>\n      <td>2017-01-02</td>\n    </tr>\n    <tr>\n      <th>7</th>\n      <td>GOAA</td>\n      <td>2016</td>\n      <td>WHITE</td>\n      <td>VOLKSWAGEN</td>\n      <td>PASSAT 4C</td>\n      <td>1.8T S</td>\n      <td>4DSN</td>\n      <td>4GT</td>\n      <td>A</td>\n      <td>16947.0</td>\n      <td>46</td>\n      <td>2.0</td>\n      <td>4905415.0</td>\n      <td>13800.0</td>\n      <td>2017-01-02</td>\n    </tr>\n  </tbody>\n</table>\n</div>"
     },
     "execution_count": 5,
     "metadata": {},
     "output_type": "execute_result"
    }
   ],
   "source": [
    "clean_df1.head()"
   ],
   "metadata": {
    "collapsed": false,
    "pycharm": {
     "name": "#%%\n"
    }
   }
  },
  {
   "cell_type": "code",
   "execution_count": 6,
   "outputs": [
    {
     "name": "stdout",
     "output_type": "stream",
     "text": [
      "Duplicate entries 1: 0\n",
      "Duplicate entries 2: 0\n",
      "Duplicate entries 3: 0\n",
      "Duplicate entries 4: 0\n",
      "Duplicate entries 5: 0\n",
      "Duplicate entries 6: 1\n",
      "Duplicate entries 7: 0\n"
     ]
    }
   ],
   "source": [
    "print(f\"Duplicate entries 1: {clean_df1.duplicated().sum()}\")\n",
    "print(f\"Duplicate entries 2: {clean_df2.duplicated().sum()}\")\n",
    "print(f\"Duplicate entries 3: {clean_df3.duplicated().sum()}\")\n",
    "print(f\"Duplicate entries 4: {clean_df4.duplicated().sum()}\")\n",
    "print(f\"Duplicate entries 5: {clean_df5.duplicated().sum()}\")\n",
    "print(f\"Duplicate entries 6: {clean_df6.duplicated().sum()}\")\n",
    "print(f\"Duplicate entries 7: {clean_df7.duplicated().sum()}\")"
   ],
   "metadata": {
    "collapsed": false,
    "pycharm": {
     "name": "#%%\n"
    }
   }
  },
  {
   "cell_type": "code",
   "execution_count": 5,
   "outputs": [
    {
     "name": "stdout",
     "output_type": "stream",
     "text": [
      "Duplicate entries 6: 0\n"
     ]
    }
   ],
   "source": [
    "no_dups_df6 = clean_df6.drop_duplicates()\n",
    "print(f\"Duplicate entries 6: {no_dups_df6.duplicated().sum()}\")\n"
   ],
   "metadata": {
    "collapsed": false,
    "pycharm": {
     "name": "#%%\n"
    }
   }
  },
  {
   "cell_type": "code",
   "execution_count": 11,
   "outputs": [
    {
     "data": {
      "text/plain": "37    764\n42    724\n41    685\n43    684\n46    663\n44    663\n45    656\n36    649\n39    592\n40    577\n38    575\n35    573\n28    409\n34    397\n29    357\n50    340\n27    310\n33    282\n26    279\n32    245\n48    245\n25    242\n31    240\n47    227\n24    223\n30    213\n49    183\n21    150\n23    148\n20    133\n22    113\n19     94\n17     76\n13     74\n18     68\n16     50\n10     45\n15     36\n14     29\n0       7\n12      1\n11      1\nName: condition_grade, dtype: int64"
     },
     "execution_count": 11,
     "metadata": {},
     "output_type": "execute_result"
    }
   ],
   "source": [
    "clean_df7['condition_grade'].value_counts()"
   ],
   "metadata": {
    "collapsed": false,
    "pycharm": {
     "name": "#%%\n"
    }
   }
  },
  {
   "cell_type": "code",
   "execution_count": 14,
   "outputs": [
    {
     "name": "stdout",
     "output_type": "stream",
     "text": [
      "<class 'pandas.core.frame.DataFrame'>\n",
      "Int64Index: 61251 entries, 1 to 79613\n",
      "Data columns (total 18 columns):\n",
      " #   Column           Non-Null Count  Dtype  \n",
      "---  ------           --------------  -----  \n",
      " 0   auction_code     61251 non-null  object \n",
      " 1   car_year         61251 non-null  int64  \n",
      " 2   color            61251 non-null  object \n",
      " 3   make             61251 non-null  object \n",
      " 4   model            61251 non-null  object \n",
      " 5   subseries        61251 non-null  object \n",
      " 6   body             61251 non-null  object \n",
      " 7   engine           61251 non-null  object \n",
      " 8   transmission     61251 non-null  object \n",
      " 9   mileage          61251 non-null  float64\n",
      " 10  condition_grade  61251 non-null  int64  \n",
      " 11  times_run        61251 non-null  float64\n",
      " 12  seller           61251 non-null  float64\n",
      " 13  sale_price       61251 non-null  float64\n",
      " 14  sold_date_year   61251 non-null  int64  \n",
      " 15  sold_date_month  61251 non-null  int64  \n",
      " 16  sold_date_week   61251 non-null  UInt32 \n",
      " 17  sold_date_day    61251 non-null  int64  \n",
      "dtypes: UInt32(1), float64(4), int64(5), object(8)\n",
      "memory usage: 8.7+ MB\n"
     ]
    }
   ],
   "source": [
    "clean_df1.info()"
   ],
   "metadata": {
    "collapsed": false,
    "pycharm": {
     "name": "#%%\n"
    }
   }
  },
  {
   "cell_type": "code",
   "execution_count": 33,
   "outputs": [
    {
     "data": {
      "text/plain": "auction_code     83\ncolor            15\nmake              1\nmodel            80\nsubseries       274\nbody             14\nengine           21\ntransmission      7\ndtype: int64"
     },
     "execution_count": 33,
     "metadata": {},
     "output_type": "execute_result"
    }
   ],
   "source": [
    "# Generate our categorical variable lists\n",
    "car_cat = clean_df1.dtypes[clean_df1.dtypes == \"object\"].index.tolist()\n",
    "# Check the number of unique values in each column\n",
    "clean_df1[car_cat].nunique()"
   ],
   "metadata": {
    "collapsed": false,
    "pycharm": {
     "name": "#%%\n"
    }
   }
  },
  {
   "cell_type": "code",
   "execution_count": 20,
   "outputs": [],
   "source": [
    "color_cnt = clean_df1[car_cat][\"color\"].value_counts()"
   ],
   "metadata": {
    "collapsed": false,
    "pycharm": {
     "name": "#%%\n"
    }
   }
  },
  {
   "cell_type": "code",
   "execution_count": 32,
   "outputs": [
    {
     "data": {
      "text/plain": "BLACK     15544\nWHITE     12016\nGRAY      10992\nSILVER     8915\nBLUE       6631\nRED        3620\nBROWN      1025\nTAN         653\nGOLD        567\nMAROON      465\nGREEN       347\nYELLOW      259\nOther       135\nORANGE       47\nPURPLE       35\nName: color, dtype: int64"
     },
     "execution_count": 32,
     "metadata": {},
     "output_type": "execute_result"
    }
   ],
   "source": [
    "# Choose a cutoff value and create a list of application types to be replaced\n",
    "# use the variable name `application_types_to_replace`\n",
    "color_types_to_replace = list(color_cnt[color_cnt < 8].index)\n",
    "\n",
    "# Replace in dataframe\n",
    "for color in color_types_to_replace:\n",
    "    clean_df1['color'] = clean_df1['color'].replace(color,\"Other\")\n",
    "\n",
    "# Check to make sure binning was successful\n",
    "clean_df1['color'].value_counts()"
   ],
   "metadata": {
    "collapsed": false,
    "pycharm": {
     "name": "#%%\n"
    }
   }
  },
  {
   "cell_type": "code",
   "execution_count": 31,
   "outputs": [
    {
     "name": "stdout",
     "output_type": "stream",
     "text": [
      "['BLACK' 'SILVER' 'TAN' 'WHITE' 'RED' 'BLUE' 'GRAY' 'BROWN' 'GOLD'\n",
      " 'YELLOW' 'MAROON' 'GREEN' 'Other' 'PURPLE' 'ORANGE']\n"
     ]
    }
   ],
   "source": [
    "print(clean_df1['color'].unique())"
   ],
   "metadata": {
    "collapsed": false,
    "pycharm": {
     "name": "#%%\n"
    }
   }
  },
  {
   "cell_type": "code",
   "execution_count": 30,
   "outputs": [],
   "source": [
    "clean_df1['color'] = clean_df1['color'].replace({\n",
    "    'GREY': 'GRAY', 'WHITEW': 'WHITE', 'CANDY WH': 'WHITE', 'BLACK EX': 'BLACK', 'DEEP BLA': 'BLACK', 'NIGHT BL': 'BLACK', 'LT BLUE': 'BLUE', 'BLUEK': 'BLUE', 'NOIR': 'BLACK', 'TWILIGHT': 'BLACK', 'CHAMPGNE': 'CHAMPAGN', 'DKBLUE': 'BLUE', 'RREY': 'GRAY', 'CREAM': 'WHITE', 'SLIVER': 'SILVER', 'WHITEGOL':'WHITE', 'TITANIUM': 'SILVER', 'BLACK  5': 'BLACK', '8LACK': 'BLACK', ' WHT GOLD': 'WHITE', 'OFFWHITE': 'WHITE', 'DK BLUE': 'BLUE', '8LUE': 'BLUE', '3HITE': 'WHITE', '0RAY': 'GRAY', '1HITE': 'WHITE', 'TOFFEE B': 'BROWN', '5LACK': 'BLACK', 'DRK BLUE': 'BLUE', 'PURE WHI': 'WHITE', 'BLACK UN': 'BLACK', 'BEIGE': 'TAN', 'COPPER': 'GOLD', 'PLATINUM': 'SILVER', 'REFLEX S': 'SILVER', 'TEAL': 'GREEN'\n",
    "})"
   ],
   "metadata": {
    "collapsed": false,
    "pycharm": {
     "name": "#%%\n"
    }
   }
  },
  {
   "cell_type": "code",
   "execution_count": 8,
   "outputs": [],
   "source": [
    "def binning_function(col, cut_points, labels=None):\n",
    "    minvalue = col.min()\n",
    "    maxvalue = col.max()\n",
    "    break_points = [minvalue] + cut_points + [maxvalue]\n",
    "    print(break_points)\n",
    "    if not labels:\n",
    "        labels = range(len(cut_points) + 1)\n",
    "    col_bin = pd.cut(col, bins=break_points, labels=labels, include_lowest=True)\n",
    "    return col_bin"
   ],
   "metadata": {
    "collapsed": false,
    "pycharm": {
     "name": "#%%\n"
    }
   }
  },
  {
   "cell_type": "code",
   "execution_count": 9,
   "outputs": [
    {
     "name": "stdout",
     "output_type": "stream",
     "text": [
      "[0.0, 25000, 50000, 75000, 100000, 999999.0]\n"
     ]
    },
    {
     "data": {
      "text/plain": "      auction_code  car_year   color        make       model   subseries  \\\n1             AYCA      2009   BLACK  VOLKSWAGEN  TIGUAN AWD         SEL   \n2             AYCA      2009  SILVER  VOLKSWAGEN      ROUTAN          SE   \n3             AYCA      2014     TAN  VOLKSWAGEN    JETTA 4C          SE   \n6             NADE      2012   BLACK  VOLKSWAGEN  TIGUAN FWD          LE   \n7             GOAA      2016   WHITE  VOLKSWAGEN   PASSAT 4C      1.8T S   \n...            ...       ...     ...         ...         ...         ...   \n79609          MAA      2017     RED  VOLKSWAGEN        GOLF   WOLFSBURG   \n79610          MAA      2015   WHITE  VOLKSWAGEN       JETTA     GLI SEL   \n79611          MAA      2017   BLACK  VOLKSWAGEN   PASSAT 4C  RLINE COMF   \n79612          MAA      2017    GREY  VOLKSWAGEN       JETTA      1.4T S   \n79613         SLAA      2011    BLUE  VOLKSWAGEN    JETTA 5C          SE   \n\n       body engine transmission   mileage  condition_grade  times_run  \\\n1       SUV    4GT            A   96696.0               34        1.0   \n2       VAN     6G            A   92321.0               31        1.0   \n3      4DSN    4GT            A   70568.0               27        1.0   \n6       SUV    4GT            A   85124.0               38        6.0   \n7      4DSN    4GT            A   16947.0               46        2.0   \n...     ...    ...          ...       ...              ...        ...   \n79609  4DHB    4GT            A   22279.0               28        1.0   \n79610  4DSN    4GT            A   76514.0               21        1.0   \n79611  4DSN    4GT            A   24620.0               28        1.0   \n79612  4DSN    4GT            A   42364.0               23        1.0   \n79613  4DSN     5G            A  125802.0               20        2.0   \n\n          seller  sale_price  sold_date_year  sold_date_month  sold_date_week  \\\n1      5177137.0      7100.0            2017                1               1   \n2      4925422.0      5800.0            2017                1               1   \n3      4925422.0      4500.0            2017                1               1   \n6      5322633.0      8300.0            2017                1               1   \n7      4905415.0     13800.0            2017                1               1   \n...          ...         ...             ...              ...             ...   \n79609  4905414.0     13600.0            2019                6              26   \n79610  4905415.0      3600.0            2019                6              26   \n79611  4905414.0     14400.0            2019                6              26   \n79612  4919311.0      9700.0            2019                6              26   \n79613  5034660.0      3600.0            2019                6              26   \n\n       sold_date_day vehicle_mileage_category  \n1                  2               75k - 100k  \n2                  2               75k - 100k  \n3                  2                50k - 75k  \n6                  2               75k - 100k  \n7                  2                    < 25k  \n...              ...                      ...  \n79609             28                    < 25k  \n79610             28               75k - 100k  \n79611             28                    < 25k  \n79612             28                25k - 50k  \n79613             30                   > 100k  \n\n[61251 rows x 19 columns]",
      "text/html": "<div>\n<style scoped>\n    .dataframe tbody tr th:only-of-type {\n        vertical-align: middle;\n    }\n\n    .dataframe tbody tr th {\n        vertical-align: top;\n    }\n\n    .dataframe thead th {\n        text-align: right;\n    }\n</style>\n<table border=\"1\" class=\"dataframe\">\n  <thead>\n    <tr style=\"text-align: right;\">\n      <th></th>\n      <th>auction_code</th>\n      <th>car_year</th>\n      <th>color</th>\n      <th>make</th>\n      <th>model</th>\n      <th>subseries</th>\n      <th>body</th>\n      <th>engine</th>\n      <th>transmission</th>\n      <th>mileage</th>\n      <th>condition_grade</th>\n      <th>times_run</th>\n      <th>seller</th>\n      <th>sale_price</th>\n      <th>sold_date_year</th>\n      <th>sold_date_month</th>\n      <th>sold_date_week</th>\n      <th>sold_date_day</th>\n      <th>vehicle_mileage_category</th>\n    </tr>\n  </thead>\n  <tbody>\n    <tr>\n      <th>1</th>\n      <td>AYCA</td>\n      <td>2009</td>\n      <td>BLACK</td>\n      <td>VOLKSWAGEN</td>\n      <td>TIGUAN AWD</td>\n      <td>SEL</td>\n      <td>SUV</td>\n      <td>4GT</td>\n      <td>A</td>\n      <td>96696.0</td>\n      <td>34</td>\n      <td>1.0</td>\n      <td>5177137.0</td>\n      <td>7100.0</td>\n      <td>2017</td>\n      <td>1</td>\n      <td>1</td>\n      <td>2</td>\n      <td>75k - 100k</td>\n    </tr>\n    <tr>\n      <th>2</th>\n      <td>AYCA</td>\n      <td>2009</td>\n      <td>SILVER</td>\n      <td>VOLKSWAGEN</td>\n      <td>ROUTAN</td>\n      <td>SE</td>\n      <td>VAN</td>\n      <td>6G</td>\n      <td>A</td>\n      <td>92321.0</td>\n      <td>31</td>\n      <td>1.0</td>\n      <td>4925422.0</td>\n      <td>5800.0</td>\n      <td>2017</td>\n      <td>1</td>\n      <td>1</td>\n      <td>2</td>\n      <td>75k - 100k</td>\n    </tr>\n    <tr>\n      <th>3</th>\n      <td>AYCA</td>\n      <td>2014</td>\n      <td>TAN</td>\n      <td>VOLKSWAGEN</td>\n      <td>JETTA 4C</td>\n      <td>SE</td>\n      <td>4DSN</td>\n      <td>4GT</td>\n      <td>A</td>\n      <td>70568.0</td>\n      <td>27</td>\n      <td>1.0</td>\n      <td>4925422.0</td>\n      <td>4500.0</td>\n      <td>2017</td>\n      <td>1</td>\n      <td>1</td>\n      <td>2</td>\n      <td>50k - 75k</td>\n    </tr>\n    <tr>\n      <th>6</th>\n      <td>NADE</td>\n      <td>2012</td>\n      <td>BLACK</td>\n      <td>VOLKSWAGEN</td>\n      <td>TIGUAN FWD</td>\n      <td>LE</td>\n      <td>SUV</td>\n      <td>4GT</td>\n      <td>A</td>\n      <td>85124.0</td>\n      <td>38</td>\n      <td>6.0</td>\n      <td>5322633.0</td>\n      <td>8300.0</td>\n      <td>2017</td>\n      <td>1</td>\n      <td>1</td>\n      <td>2</td>\n      <td>75k - 100k</td>\n    </tr>\n    <tr>\n      <th>7</th>\n      <td>GOAA</td>\n      <td>2016</td>\n      <td>WHITE</td>\n      <td>VOLKSWAGEN</td>\n      <td>PASSAT 4C</td>\n      <td>1.8T S</td>\n      <td>4DSN</td>\n      <td>4GT</td>\n      <td>A</td>\n      <td>16947.0</td>\n      <td>46</td>\n      <td>2.0</td>\n      <td>4905415.0</td>\n      <td>13800.0</td>\n      <td>2017</td>\n      <td>1</td>\n      <td>1</td>\n      <td>2</td>\n      <td>&lt; 25k</td>\n    </tr>\n    <tr>\n      <th>...</th>\n      <td>...</td>\n      <td>...</td>\n      <td>...</td>\n      <td>...</td>\n      <td>...</td>\n      <td>...</td>\n      <td>...</td>\n      <td>...</td>\n      <td>...</td>\n      <td>...</td>\n      <td>...</td>\n      <td>...</td>\n      <td>...</td>\n      <td>...</td>\n      <td>...</td>\n      <td>...</td>\n      <td>...</td>\n      <td>...</td>\n      <td>...</td>\n    </tr>\n    <tr>\n      <th>79609</th>\n      <td>MAA</td>\n      <td>2017</td>\n      <td>RED</td>\n      <td>VOLKSWAGEN</td>\n      <td>GOLF</td>\n      <td>WOLFSBURG</td>\n      <td>4DHB</td>\n      <td>4GT</td>\n      <td>A</td>\n      <td>22279.0</td>\n      <td>28</td>\n      <td>1.0</td>\n      <td>4905414.0</td>\n      <td>13600.0</td>\n      <td>2019</td>\n      <td>6</td>\n      <td>26</td>\n      <td>28</td>\n      <td>&lt; 25k</td>\n    </tr>\n    <tr>\n      <th>79610</th>\n      <td>MAA</td>\n      <td>2015</td>\n      <td>WHITE</td>\n      <td>VOLKSWAGEN</td>\n      <td>JETTA</td>\n      <td>GLI SEL</td>\n      <td>4DSN</td>\n      <td>4GT</td>\n      <td>A</td>\n      <td>76514.0</td>\n      <td>21</td>\n      <td>1.0</td>\n      <td>4905415.0</td>\n      <td>3600.0</td>\n      <td>2019</td>\n      <td>6</td>\n      <td>26</td>\n      <td>28</td>\n      <td>75k - 100k</td>\n    </tr>\n    <tr>\n      <th>79611</th>\n      <td>MAA</td>\n      <td>2017</td>\n      <td>BLACK</td>\n      <td>VOLKSWAGEN</td>\n      <td>PASSAT 4C</td>\n      <td>RLINE COMF</td>\n      <td>4DSN</td>\n      <td>4GT</td>\n      <td>A</td>\n      <td>24620.0</td>\n      <td>28</td>\n      <td>1.0</td>\n      <td>4905414.0</td>\n      <td>14400.0</td>\n      <td>2019</td>\n      <td>6</td>\n      <td>26</td>\n      <td>28</td>\n      <td>&lt; 25k</td>\n    </tr>\n    <tr>\n      <th>79612</th>\n      <td>MAA</td>\n      <td>2017</td>\n      <td>GREY</td>\n      <td>VOLKSWAGEN</td>\n      <td>JETTA</td>\n      <td>1.4T S</td>\n      <td>4DSN</td>\n      <td>4GT</td>\n      <td>A</td>\n      <td>42364.0</td>\n      <td>23</td>\n      <td>1.0</td>\n      <td>4919311.0</td>\n      <td>9700.0</td>\n      <td>2019</td>\n      <td>6</td>\n      <td>26</td>\n      <td>28</td>\n      <td>25k - 50k</td>\n    </tr>\n    <tr>\n      <th>79613</th>\n      <td>SLAA</td>\n      <td>2011</td>\n      <td>BLUE</td>\n      <td>VOLKSWAGEN</td>\n      <td>JETTA 5C</td>\n      <td>SE</td>\n      <td>4DSN</td>\n      <td>5G</td>\n      <td>A</td>\n      <td>125802.0</td>\n      <td>20</td>\n      <td>2.0</td>\n      <td>5034660.0</td>\n      <td>3600.0</td>\n      <td>2019</td>\n      <td>6</td>\n      <td>26</td>\n      <td>30</td>\n      <td>&gt; 100k</td>\n    </tr>\n  </tbody>\n</table>\n<p>61251 rows × 19 columns</p>\n</div>"
     },
     "execution_count": 9,
     "metadata": {},
     "output_type": "execute_result"
    }
   ],
   "source": [
    "cut_points = [25000, 50000, 75000, 100000]\n",
    "labels = ['< 25k', '25k - 50k', '50k - 75k', '75k - 100k', '> 100k']\n",
    "clean_df1['vehicle_mileage_category'] = binning_function(clean_df1['mileage'], cut_points, labels)\n",
    "clean_df1"
   ],
   "metadata": {
    "collapsed": false,
    "pycharm": {
     "name": "#%%\n"
    }
   }
  },
  {
   "cell_type": "code",
   "execution_count": null,
   "outputs": [],
   "source": [],
   "metadata": {
    "collapsed": false,
    "pycharm": {
     "name": "#%%\n"
    }
   }
  },
  {
   "cell_type": "code",
   "execution_count": 10,
   "outputs": [],
   "source": [
    "df1_dummies = pd.get_dummies(clean_df1)\n",
    "# df2_dummies = pd.get_dummies(clean_df2)\n",
    "# df3_dummies = pd.get_dummies(clean_df3)\n",
    "# df4_dummies = pd.get_dummies(clean_df4)\n",
    "# df5_dummies = pd.get_dummies(clean_df5)\n",
    "# df6_dummies = pd.get_dummies(no_dups_df6)\n",
    "# df7_dummies = pd.get_dummies(clean_df7)"
   ],
   "metadata": {
    "collapsed": false,
    "pycharm": {
     "name": "#%%\n"
    }
   }
  },
  {
   "cell_type": "code",
   "execution_count": 11,
   "outputs": [],
   "source": [
    "# Drop the label to create the X data\n",
    "X_1 = df1_dummies.drop('sale_price', axis=1)\n",
    "# X_2 = df2_dummies.drop('sale_price', axis=1)\n",
    "# X_3 = df3_dummies.drop('sale_price', axis=1)\n",
    "# X_4 = df4_dummies.drop('sale_price', axis=1)\n",
    "# X_5 = df5_dummies.drop('sale_price', axis=1)\n",
    "# X_6 = df6_dummies.drop('sale_price', axis=1)\n",
    "# X_7 = df7_dummies.drop('sale_price', axis=1)\n"
   ],
   "metadata": {
    "collapsed": false,
    "pycharm": {
     "name": "#%%\n"
    }
   }
  },
  {
   "cell_type": "code",
   "execution_count": 12,
   "outputs": [],
   "source": [
    "y_1 = df1_dummies[\"sale_price\"]\n",
    "# y_2 = df2_dummies[\"sale_price\"]\n",
    "# y_3 = df3_dummies[\"sale_price\"]\n",
    "# y_4 = df4_dummies[\"sale_price\"]\n",
    "# y_5 = df5_dummies[\"sale_price\"]\n",
    "# y_6 = df6_dummies[\"sale_price\"]\n",
    "# y_7 = df7_dummies[\"sale_price\"]"
   ],
   "metadata": {
    "collapsed": false,
    "pycharm": {
     "name": "#%%\n"
    }
   }
  },
  {
   "cell_type": "code",
   "execution_count": 13,
   "outputs": [],
   "source": [
    "X_train1, X_test1, y_train1, y_test1 = train_test_split(X_1, y_1, random_state=1)\n",
    "# X_train2, X_test2, y_train2, y_test2 = train_test_split(X_2, y_2, random_state=1)\n",
    "# X_train3, X_test3, y_train3, y_test3 = train_test_split(X_3, y_3, random_state=1)\n",
    "# X_train4, X_test4, y_train4, y_test4 = train_test_split(X_4, y_4, random_state=1)\n",
    "# X_train5, X_test5, y_train5, y_test5 = train_test_split(X_5, y_5, random_state=1)\n",
    "# X_train6, X_test6, y_train6, y_test6 = train_test_split(X_6, y_6, random_state=1)\n",
    "# X_train7, X_test7, y_train7, y_test7 = train_test_split(X_7, y_7, random_state=1)"
   ],
   "metadata": {
    "collapsed": false,
    "pycharm": {
     "name": "#%%\n"
    }
   }
  },
  {
   "cell_type": "code",
   "execution_count": 15,
   "outputs": [
    {
     "data": {
      "text/plain": "array([[ 0.28815586, -0.409263  ,  1.11810233, ..., -0.39366942,\n        -0.36152184, -0.43964507],\n       [-0.91177199, -0.17034985,  0.16185808, ...,  2.54020239,\n        -0.36152184, -0.43964507],\n       [ 0.58813783,  0.0382699 ,  1.7555985 , ...,  2.54020239,\n        -0.36152184, -0.43964507],\n       ...,\n       [-3.01164573,  1.8897161 , -0.47563808, ..., -0.39366942,\n        -0.36152184,  2.27456206],\n       [ 0.28815586, -0.2943891 , -0.68813681, ..., -0.39366942,\n        -0.36152184, -0.43964507],\n       [-2.71166376,  4.06642989, -0.47563808, ..., -0.39366942,\n        -0.36152184,  2.27456206]])"
     },
     "execution_count": 15,
     "metadata": {},
     "output_type": "execute_result"
    }
   ],
   "source": [
    "# Scaling the X data by using StandardScaler()\n",
    "scaler = StandardScaler().fit(X_train1)\n",
    "X_train_scaled1 = scaler.transform(X_train1)\n",
    "X_train_scaled1"
   ],
   "metadata": {
    "collapsed": false,
    "pycharm": {
     "name": "#%%\n"
    }
   }
  },
  {
   "cell_type": "code",
   "execution_count": null,
   "outputs": [],
   "source": [
    "# Scale the data\n",
    "# from sklearn.preprocessing import StandardScaler\n",
    "# scaler = StandardScaler()\n",
    "# scaled_data = scaler.fit_transform(df_shopping[['Age', 'Annual Income', 'Spending Score (1-100)']])"
   ],
   "metadata": {
    "collapsed": false,
    "pycharm": {
     "name": "#%%\n"
    }
   }
  },
  {
   "cell_type": "code",
   "execution_count": null,
   "outputs": [],
   "source": [],
   "metadata": {
    "collapsed": false,
    "pycharm": {
     "name": "#%%\n"
    }
   }
  },
  {
   "cell_type": "code",
   "execution_count": null,
   "outputs": [],
   "source": [],
   "metadata": {
    "collapsed": false,
    "pycharm": {
     "name": "#%%\n"
    }
   }
  },
  {
   "cell_type": "code",
   "execution_count": null,
   "outputs": [],
   "source": [],
   "metadata": {
    "collapsed": false,
    "pycharm": {
     "name": "#%%\n"
    }
   }
  },
  {
   "cell_type": "code",
   "execution_count": null,
   "outputs": [],
   "source": [],
   "metadata": {
    "collapsed": false,
    "pycharm": {
     "name": "#%%\n"
    }
   }
  },
  {
   "cell_type": "code",
   "execution_count": null,
   "outputs": [],
   "source": [],
   "metadata": {
    "collapsed": false,
    "pycharm": {
     "name": "#%%\n"
    }
   }
  }
 ],
 "metadata": {
  "kernelspec": {
   "display_name": "Python 3",
   "language": "python",
   "name": "python3"
  },
  "language_info": {
   "codemirror_mode": {
    "name": "ipython",
    "version": 2
   },
   "file_extension": ".py",
   "mimetype": "text/x-python",
   "name": "python",
   "nbconvert_exporter": "python",
   "pygments_lexer": "ipython2",
   "version": "2.7.6"
  }
 },
 "nbformat": 4,
 "nbformat_minor": 0
}