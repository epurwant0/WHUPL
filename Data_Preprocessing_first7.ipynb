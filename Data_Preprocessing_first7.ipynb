{
 "cells": [
  {
   "cell_type": "code",
   "execution_count": 2,
   "id": "abc97c39",
   "metadata": {},
   "outputs": [],
   "source": [
    "import pandas as pd\n"
   ]
  },
  {
   "cell_type": "code",
   "execution_count": 3,
   "id": "67904155",
   "metadata": {},
   "outputs": [],
   "source": [
    "xls = pd.ExcelFile('Resources/Car_Data.xlsx')\n",
    "df1 = pd.read_excel(xls, 'Volkswagon')\n",
    "df2 = pd.read_excel(xls, 'Toyota')\n",
    "df3 = pd.read_excel(xls, 'Porsche')\n",
    "df4 = pd.read_excel(xls, 'Mercedes')\n",
    "df5 = pd.read_excel(xls, 'Maserati')\n",
    "df6 = pd.read_excel(xls, 'Lincoln')\n",
    "df7 = pd.read_excel(xls, 'Lexus')\n",
    "# df8 = pd.read_excel(xls, 'Kia')\n",
    "# df9 = pd.read_excel(xls, 'Landrover')\n",
    "# df10 = pd.read_excel(xls, 'Volkswagon')\n",
    "# df11 = pd.read_excel(xls, 'Honda')\n",
    "# df12 = pd.read_excel(xls, 'Hyundai')\n",
    "# df13 = pd.read_excel(xls, 'Acura')\n",
    "# df14 = pd.read_excel(xls, 'Audi')\n",
    "# df15 = pd.read_excel(xls, 'BMW')\n"
   ]
  },
  {
   "cell_type": "code",
   "execution_count": 3,
   "id": "a148fa1b",
   "metadata": {},
   "outputs": [],
   "source": [
    "# df_list = [df1, df2, df3, df4, df5, df6, df7]\n",
    "\n",
    "\n"
   ]
  },
  {
   "cell_type": "code",
   "execution_count": 4,
   "outputs": [],
   "source": [
    "def clean_data(df):\n",
    "    new_df = df.dropna(how='any')\n",
    "    new_df['formatted_sold_date'] = pd.to_datetime(new_df['sold_date'], format='%Y-%m-%d-%H.%M.%S.%f')\n",
    "    cc_df = new_df.drop(columns=['sold_date'])\n",
    "\n",
    "    return cc_df\n"
   ],
   "metadata": {
    "collapsed": false,
    "pycharm": {
     "name": "#%%\n"
    }
   }
  },
  {
   "cell_type": "code",
   "execution_count": 10,
   "outputs": [
    {
     "name": "stderr",
     "output_type": "stream",
     "text": [
      "/var/folders/_k/3dfk2s110yz7b_7m_4y_7c8h0000gn/T/ipykernel_6118/1538750144.py:3: SettingWithCopyWarning: \n",
      "A value is trying to be set on a copy of a slice from a DataFrame.\n",
      "Try using .loc[row_indexer,col_indexer] = value instead\n",
      "\n",
      "See the caveats in the documentation: https://pandas.pydata.org/pandas-docs/stable/user_guide/indexing.html#returning-a-view-versus-a-copy\n",
      "  new_df['formatted_sold_date'] = pd.to_datetime(new_df['sold_date'], format='%Y-%m-%d-%H.%M.%S.%f')\n",
      "/var/folders/_k/3dfk2s110yz7b_7m_4y_7c8h0000gn/T/ipykernel_6118/1538750144.py:3: SettingWithCopyWarning: \n",
      "A value is trying to be set on a copy of a slice from a DataFrame.\n",
      "Try using .loc[row_indexer,col_indexer] = value instead\n",
      "\n",
      "See the caveats in the documentation: https://pandas.pydata.org/pandas-docs/stable/user_guide/indexing.html#returning-a-view-versus-a-copy\n",
      "  new_df['formatted_sold_date'] = pd.to_datetime(new_df['sold_date'], format='%Y-%m-%d-%H.%M.%S.%f')\n",
      "/var/folders/_k/3dfk2s110yz7b_7m_4y_7c8h0000gn/T/ipykernel_6118/1538750144.py:3: SettingWithCopyWarning: \n",
      "A value is trying to be set on a copy of a slice from a DataFrame.\n",
      "Try using .loc[row_indexer,col_indexer] = value instead\n",
      "\n",
      "See the caveats in the documentation: https://pandas.pydata.org/pandas-docs/stable/user_guide/indexing.html#returning-a-view-versus-a-copy\n",
      "  new_df['formatted_sold_date'] = pd.to_datetime(new_df['sold_date'], format='%Y-%m-%d-%H.%M.%S.%f')\n",
      "/var/folders/_k/3dfk2s110yz7b_7m_4y_7c8h0000gn/T/ipykernel_6118/1538750144.py:3: SettingWithCopyWarning: \n",
      "A value is trying to be set on a copy of a slice from a DataFrame.\n",
      "Try using .loc[row_indexer,col_indexer] = value instead\n",
      "\n",
      "See the caveats in the documentation: https://pandas.pydata.org/pandas-docs/stable/user_guide/indexing.html#returning-a-view-versus-a-copy\n",
      "  new_df['formatted_sold_date'] = pd.to_datetime(new_df['sold_date'], format='%Y-%m-%d-%H.%M.%S.%f')\n",
      "/var/folders/_k/3dfk2s110yz7b_7m_4y_7c8h0000gn/T/ipykernel_6118/1538750144.py:3: SettingWithCopyWarning: \n",
      "A value is trying to be set on a copy of a slice from a DataFrame.\n",
      "Try using .loc[row_indexer,col_indexer] = value instead\n",
      "\n",
      "See the caveats in the documentation: https://pandas.pydata.org/pandas-docs/stable/user_guide/indexing.html#returning-a-view-versus-a-copy\n",
      "  new_df['formatted_sold_date'] = pd.to_datetime(new_df['sold_date'], format='%Y-%m-%d-%H.%M.%S.%f')\n",
      "/var/folders/_k/3dfk2s110yz7b_7m_4y_7c8h0000gn/T/ipykernel_6118/1538750144.py:3: SettingWithCopyWarning: \n",
      "A value is trying to be set on a copy of a slice from a DataFrame.\n",
      "Try using .loc[row_indexer,col_indexer] = value instead\n",
      "\n",
      "See the caveats in the documentation: https://pandas.pydata.org/pandas-docs/stable/user_guide/indexing.html#returning-a-view-versus-a-copy\n",
      "  new_df['formatted_sold_date'] = pd.to_datetime(new_df['sold_date'], format='%Y-%m-%d-%H.%M.%S.%f')\n",
      "/var/folders/_k/3dfk2s110yz7b_7m_4y_7c8h0000gn/T/ipykernel_6118/1538750144.py:3: SettingWithCopyWarning: \n",
      "A value is trying to be set on a copy of a slice from a DataFrame.\n",
      "Try using .loc[row_indexer,col_indexer] = value instead\n",
      "\n",
      "See the caveats in the documentation: https://pandas.pydata.org/pandas-docs/stable/user_guide/indexing.html#returning-a-view-versus-a-copy\n",
      "  new_df['formatted_sold_date'] = pd.to_datetime(new_df['sold_date'], format='%Y-%m-%d-%H.%M.%S.%f')\n"
     ]
    }
   ],
   "source": [
    "clean_df1 = clean_data(df1)\n",
    "clean_df2 = clean_data(df2)\n",
    "clean_df3 = clean_data(df3)\n",
    "clean_df4 = clean_data(df4)\n",
    "clean_df5 = clean_data(df5)\n",
    "clean_df6 = clean_data(df6)\n",
    "clean_df7 = clean_data(df7)\n",
    "# for df in df_list:\n",
    "#     clean_data(df)"
   ],
   "metadata": {
    "collapsed": false,
    "pycharm": {
     "name": "#%%\n"
    }
   }
  },
  {
   "cell_type": "markdown",
   "source": [],
   "metadata": {
    "collapsed": false
   }
  },
  {
   "cell_type": "code",
   "execution_count": 11,
   "outputs": [
    {
     "data": {
      "text/plain": "  auction_code  car_year   color        make       model subseries  body  \\\n1         AYCA      2009   BLACK  VOLKSWAGEN  TIGUAN AWD       SEL   SUV   \n2         AYCA      2009  SILVER  VOLKSWAGEN      ROUTAN        SE   VAN   \n3         AYCA      2014     TAN  VOLKSWAGEN    JETTA 4C        SE  4DSN   \n6         NADE      2012   BLACK  VOLKSWAGEN  TIGUAN FWD        LE   SUV   \n7         GOAA      2016   WHITE  VOLKSWAGEN   PASSAT 4C    1.8T S  4DSN   \n\n  engine transmission  mileage condition_grade  times_run     seller  \\\n1    4GT            A  96696.0              34        1.0  5177137.0   \n2     6G            A  92321.0              31        1.0  4925422.0   \n3    4GT            A  70568.0              27        1.0  4925422.0   \n6    4GT            A  85124.0              38        6.0  5322633.0   \n7    4GT            A  16947.0              46        2.0  4905415.0   \n\n   sale_price formatted_sold_date  \n1      7100.0          2017-01-02  \n2      5800.0          2017-01-02  \n3      4500.0          2017-01-02  \n6      8300.0          2017-01-02  \n7     13800.0          2017-01-02  ",
      "text/html": "<div>\n<style scoped>\n    .dataframe tbody tr th:only-of-type {\n        vertical-align: middle;\n    }\n\n    .dataframe tbody tr th {\n        vertical-align: top;\n    }\n\n    .dataframe thead th {\n        text-align: right;\n    }\n</style>\n<table border=\"1\" class=\"dataframe\">\n  <thead>\n    <tr style=\"text-align: right;\">\n      <th></th>\n      <th>auction_code</th>\n      <th>car_year</th>\n      <th>color</th>\n      <th>make</th>\n      <th>model</th>\n      <th>subseries</th>\n      <th>body</th>\n      <th>engine</th>\n      <th>transmission</th>\n      <th>mileage</th>\n      <th>condition_grade</th>\n      <th>times_run</th>\n      <th>seller</th>\n      <th>sale_price</th>\n      <th>formatted_sold_date</th>\n    </tr>\n  </thead>\n  <tbody>\n    <tr>\n      <th>1</th>\n      <td>AYCA</td>\n      <td>2009</td>\n      <td>BLACK</td>\n      <td>VOLKSWAGEN</td>\n      <td>TIGUAN AWD</td>\n      <td>SEL</td>\n      <td>SUV</td>\n      <td>4GT</td>\n      <td>A</td>\n      <td>96696.0</td>\n      <td>34</td>\n      <td>1.0</td>\n      <td>5177137.0</td>\n      <td>7100.0</td>\n      <td>2017-01-02</td>\n    </tr>\n    <tr>\n      <th>2</th>\n      <td>AYCA</td>\n      <td>2009</td>\n      <td>SILVER</td>\n      <td>VOLKSWAGEN</td>\n      <td>ROUTAN</td>\n      <td>SE</td>\n      <td>VAN</td>\n      <td>6G</td>\n      <td>A</td>\n      <td>92321.0</td>\n      <td>31</td>\n      <td>1.0</td>\n      <td>4925422.0</td>\n      <td>5800.0</td>\n      <td>2017-01-02</td>\n    </tr>\n    <tr>\n      <th>3</th>\n      <td>AYCA</td>\n      <td>2014</td>\n      <td>TAN</td>\n      <td>VOLKSWAGEN</td>\n      <td>JETTA 4C</td>\n      <td>SE</td>\n      <td>4DSN</td>\n      <td>4GT</td>\n      <td>A</td>\n      <td>70568.0</td>\n      <td>27</td>\n      <td>1.0</td>\n      <td>4925422.0</td>\n      <td>4500.0</td>\n      <td>2017-01-02</td>\n    </tr>\n    <tr>\n      <th>6</th>\n      <td>NADE</td>\n      <td>2012</td>\n      <td>BLACK</td>\n      <td>VOLKSWAGEN</td>\n      <td>TIGUAN FWD</td>\n      <td>LE</td>\n      <td>SUV</td>\n      <td>4GT</td>\n      <td>A</td>\n      <td>85124.0</td>\n      <td>38</td>\n      <td>6.0</td>\n      <td>5322633.0</td>\n      <td>8300.0</td>\n      <td>2017-01-02</td>\n    </tr>\n    <tr>\n      <th>7</th>\n      <td>GOAA</td>\n      <td>2016</td>\n      <td>WHITE</td>\n      <td>VOLKSWAGEN</td>\n      <td>PASSAT 4C</td>\n      <td>1.8T S</td>\n      <td>4DSN</td>\n      <td>4GT</td>\n      <td>A</td>\n      <td>16947.0</td>\n      <td>46</td>\n      <td>2.0</td>\n      <td>4905415.0</td>\n      <td>13800.0</td>\n      <td>2017-01-02</td>\n    </tr>\n  </tbody>\n</table>\n</div>"
     },
     "execution_count": 11,
     "metadata": {},
     "output_type": "execute_result"
    }
   ],
   "source": [
    "clean_df1.head()"
   ],
   "metadata": {
    "collapsed": false,
    "pycharm": {
     "name": "#%%\n"
    }
   }
  },
  {
   "cell_type": "code",
   "execution_count": null,
   "outputs": [],
   "source": [],
   "metadata": {
    "collapsed": false,
    "pycharm": {
     "name": "#%%\n"
    }
   }
  },
  {
   "cell_type": "code",
   "execution_count": null,
   "outputs": [],
   "source": [],
   "metadata": {
    "collapsed": false,
    "pycharm": {
     "name": "#%%\n"
    }
   }
  }
 ],
 "metadata": {
  "interpreter": {
   "hash": "c13a3f10964a8b99620ffcda581fcde8e43b289abc8b1a260a3fac33f2cc771c"
  },
  "kernelspec": {
   "display_name": "Python 3.7.11 ('p37env')",
   "language": "python",
   "name": "python3"
  },
  "language_info": {
   "codemirror_mode": {
    "name": "ipython",
    "version": 3
   },
   "file_extension": ".py",
   "mimetype": "text/x-python",
   "name": "python",
   "nbconvert_exporter": "python",
   "pygments_lexer": "ipython3",
   "version": "3.7.11"
  }
 },
 "nbformat": 4,
 "nbformat_minor": 5
}