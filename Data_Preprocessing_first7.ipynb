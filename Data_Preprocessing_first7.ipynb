{
 "cells": [
  {
   "cell_type": "code",
   "execution_count": 1,
   "id": "abc97c39",
   "metadata": {},
   "outputs": [],
   "source": [
    "import pandas as pd\n"
   ]
  },
  {
   "cell_type": "code",
   "execution_count": 2,
   "id": "67904155",
   "metadata": {},
   "outputs": [],
   "source": [
    "xls = pd.ExcelFile('Resources/Car_Data.xlsx')\n",
    "df1 = pd.read_excel(xls, 'Volkswagon')\n",
    "df2 = pd.read_excel(xls, 'Toyota')\n",
    "df3 = pd.read_excel(xls, 'Porsche')\n",
    "df4 = pd.read_excel(xls, 'Mercedes')\n",
    "df5 = pd.read_excel(xls, 'Maserati')\n",
    "df6 = pd.read_excel(xls, 'Lincoln')\n",
    "df7 = pd.read_excel(xls, 'Lexus')\n",
    "# df8 = pd.read_excel(xls, 'Kia')\n",
    "# df9 = pd.read_excel(xls, 'Landrover')\n",
    "# df10 = pd.read_excel(xls, 'Volkswagon')\n",
    "# df11 = pd.read_excel(xls, 'Honda')\n",
    "# df12 = pd.read_excel(xls, 'Hyundai')\n",
    "# df13 = pd.read_excel(xls, 'Acura')\n",
    "# df14 = pd.read_excel(xls, 'Audi')\n",
    "# df15 = pd.read_excel(xls, 'BMW')\n"
   ]
  },
  {
   "cell_type": "code",
   "execution_count": 3,
   "id": "a148fa1b",
   "metadata": {},
   "outputs": [],
   "source": [
    "df_list = [df1, df2, df3, df4, df5, df6, df7]\n",
    "\n",
    "\n"
   ]
  },
  {
   "cell_type": "code",
   "execution_count": null,
   "id": "b6f00feb",
   "metadata": {},
   "outputs": [],
   "source": [
    "# don't run\n",
    "appended_data = []\n",
    "for infile in glob.glob(“data/*.csv”):\n",
    "    data = pd.read_csv(infile)\n",
    "    # store DataFrame in list\n",
    "    appended_data.append(data)\n",
    "# see pd.concat documentation for more info\n",
    "appended_data = pd.concat(appended_data)\n",
    "# write DataFrame to a csv"
   ]
  },
  {
   "cell_type": "code",
   "execution_count": 6,
   "id": "c6c34e57",
   "metadata": {},
   "outputs": [
    {
     "data": {
      "text/plain": "  auction_code  car_year   color        make       model subseries  body  \\\n0         KEYA      2001   GREEN  VOLKSWAGEN    JETTA 4C       GLS  4DSN   \n1         AYCA      2009   BLACK  VOLKSWAGEN  TIGUAN AWD       SEL   SUV   \n2         AYCA      2009  SILVER  VOLKSWAGEN      ROUTAN        SE   VAN   \n3         AYCA      2014     TAN  VOLKSWAGEN    JETTA 4C        SE  4DSN   \n4         AYCA      2009    BLUE  VOLKSWAGEN      ROUTAN        SE   VAN   \n\n  engine transmission   mileage condition_grade  times_run  \\\n0     4G            A  130502.0             NaN        1.0   \n1    4GT            A   96696.0              34        1.0   \n2     6G            A   92321.0              31        1.0   \n3    4GT            A   70568.0              27        1.0   \n4     6G            A  145625.0             NaN        1.0   \n\n                    sold_date     seller  sale_price  \n0  2017-01-02-00.00.00.000000  5135512.0       450.0  \n1  2017-01-02-00.00.00.000000  5177137.0      7100.0  \n2  2017-01-02-00.00.00.000000  4925422.0      5800.0  \n3  2017-01-02-00.00.00.000000  4925422.0      4500.0  \n4  2017-01-02-00.00.00.000000  5071209.0      2400.0  ",
      "text/html": "<div>\n<style scoped>\n    .dataframe tbody tr th:only-of-type {\n        vertical-align: middle;\n    }\n\n    .dataframe tbody tr th {\n        vertical-align: top;\n    }\n\n    .dataframe thead th {\n        text-align: right;\n    }\n</style>\n<table border=\"1\" class=\"dataframe\">\n  <thead>\n    <tr style=\"text-align: right;\">\n      <th></th>\n      <th>auction_code</th>\n      <th>car_year</th>\n      <th>color</th>\n      <th>make</th>\n      <th>model</th>\n      <th>subseries</th>\n      <th>body</th>\n      <th>engine</th>\n      <th>transmission</th>\n      <th>mileage</th>\n      <th>condition_grade</th>\n      <th>times_run</th>\n      <th>sold_date</th>\n      <th>seller</th>\n      <th>sale_price</th>\n    </tr>\n  </thead>\n  <tbody>\n    <tr>\n      <th>0</th>\n      <td>KEYA</td>\n      <td>2001</td>\n      <td>GREEN</td>\n      <td>VOLKSWAGEN</td>\n      <td>JETTA 4C</td>\n      <td>GLS</td>\n      <td>4DSN</td>\n      <td>4G</td>\n      <td>A</td>\n      <td>130502.0</td>\n      <td>NaN</td>\n      <td>1.0</td>\n      <td>2017-01-02-00.00.00.000000</td>\n      <td>5135512.0</td>\n      <td>450.0</td>\n    </tr>\n    <tr>\n      <th>1</th>\n      <td>AYCA</td>\n      <td>2009</td>\n      <td>BLACK</td>\n      <td>VOLKSWAGEN</td>\n      <td>TIGUAN AWD</td>\n      <td>SEL</td>\n      <td>SUV</td>\n      <td>4GT</td>\n      <td>A</td>\n      <td>96696.0</td>\n      <td>34</td>\n      <td>1.0</td>\n      <td>2017-01-02-00.00.00.000000</td>\n      <td>5177137.0</td>\n      <td>7100.0</td>\n    </tr>\n    <tr>\n      <th>2</th>\n      <td>AYCA</td>\n      <td>2009</td>\n      <td>SILVER</td>\n      <td>VOLKSWAGEN</td>\n      <td>ROUTAN</td>\n      <td>SE</td>\n      <td>VAN</td>\n      <td>6G</td>\n      <td>A</td>\n      <td>92321.0</td>\n      <td>31</td>\n      <td>1.0</td>\n      <td>2017-01-02-00.00.00.000000</td>\n      <td>4925422.0</td>\n      <td>5800.0</td>\n    </tr>\n    <tr>\n      <th>3</th>\n      <td>AYCA</td>\n      <td>2014</td>\n      <td>TAN</td>\n      <td>VOLKSWAGEN</td>\n      <td>JETTA 4C</td>\n      <td>SE</td>\n      <td>4DSN</td>\n      <td>4GT</td>\n      <td>A</td>\n      <td>70568.0</td>\n      <td>27</td>\n      <td>1.0</td>\n      <td>2017-01-02-00.00.00.000000</td>\n      <td>4925422.0</td>\n      <td>4500.0</td>\n    </tr>\n    <tr>\n      <th>4</th>\n      <td>AYCA</td>\n      <td>2009</td>\n      <td>BLUE</td>\n      <td>VOLKSWAGEN</td>\n      <td>ROUTAN</td>\n      <td>SE</td>\n      <td>VAN</td>\n      <td>6G</td>\n      <td>A</td>\n      <td>145625.0</td>\n      <td>NaN</td>\n      <td>1.0</td>\n      <td>2017-01-02-00.00.00.000000</td>\n      <td>5071209.0</td>\n      <td>2400.0</td>\n    </tr>\n  </tbody>\n</table>\n</div>"
     },
     "execution_count": 6,
     "metadata": {},
     "output_type": "execute_result"
    }
   ],
   "source": [
    "df1.head()"
   ]
  },
  {
   "cell_type": "code",
   "execution_count": 7,
   "id": "a8a1cc7c",
   "metadata": {},
   "outputs": [
    {
     "data": {
      "text/plain": "  auction_code  car_year   color        make       model subseries  body  \\\n1         AYCA      2009   BLACK  VOLKSWAGEN  TIGUAN AWD       SEL   SUV   \n2         AYCA      2009  SILVER  VOLKSWAGEN      ROUTAN        SE   VAN   \n3         AYCA      2014     TAN  VOLKSWAGEN    JETTA 4C        SE  4DSN   \n6         NADE      2012   BLACK  VOLKSWAGEN  TIGUAN FWD        LE   SUV   \n7         GOAA      2016   WHITE  VOLKSWAGEN   PASSAT 4C    1.8T S  4DSN   \n\n  engine transmission  mileage condition_grade  times_run  \\\n1    4GT            A  96696.0              34        1.0   \n2     6G            A  92321.0              31        1.0   \n3    4GT            A  70568.0              27        1.0   \n6    4GT            A  85124.0              38        6.0   \n7    4GT            A  16947.0              46        2.0   \n\n                    sold_date     seller  sale_price  \n1  2017-01-02-00.00.00.000000  5177137.0      7100.0  \n2  2017-01-02-00.00.00.000000  4925422.0      5800.0  \n3  2017-01-02-00.00.00.000000  4925422.0      4500.0  \n6  2017-01-02-00.00.00.000000  5322633.0      8300.0  \n7  2017-01-02-00.00.00.000000  4905415.0     13800.0  ",
      "text/html": "<div>\n<style scoped>\n    .dataframe tbody tr th:only-of-type {\n        vertical-align: middle;\n    }\n\n    .dataframe tbody tr th {\n        vertical-align: top;\n    }\n\n    .dataframe thead th {\n        text-align: right;\n    }\n</style>\n<table border=\"1\" class=\"dataframe\">\n  <thead>\n    <tr style=\"text-align: right;\">\n      <th></th>\n      <th>auction_code</th>\n      <th>car_year</th>\n      <th>color</th>\n      <th>make</th>\n      <th>model</th>\n      <th>subseries</th>\n      <th>body</th>\n      <th>engine</th>\n      <th>transmission</th>\n      <th>mileage</th>\n      <th>condition_grade</th>\n      <th>times_run</th>\n      <th>sold_date</th>\n      <th>seller</th>\n      <th>sale_price</th>\n    </tr>\n  </thead>\n  <tbody>\n    <tr>\n      <th>1</th>\n      <td>AYCA</td>\n      <td>2009</td>\n      <td>BLACK</td>\n      <td>VOLKSWAGEN</td>\n      <td>TIGUAN AWD</td>\n      <td>SEL</td>\n      <td>SUV</td>\n      <td>4GT</td>\n      <td>A</td>\n      <td>96696.0</td>\n      <td>34</td>\n      <td>1.0</td>\n      <td>2017-01-02-00.00.00.000000</td>\n      <td>5177137.0</td>\n      <td>7100.0</td>\n    </tr>\n    <tr>\n      <th>2</th>\n      <td>AYCA</td>\n      <td>2009</td>\n      <td>SILVER</td>\n      <td>VOLKSWAGEN</td>\n      <td>ROUTAN</td>\n      <td>SE</td>\n      <td>VAN</td>\n      <td>6G</td>\n      <td>A</td>\n      <td>92321.0</td>\n      <td>31</td>\n      <td>1.0</td>\n      <td>2017-01-02-00.00.00.000000</td>\n      <td>4925422.0</td>\n      <td>5800.0</td>\n    </tr>\n    <tr>\n      <th>3</th>\n      <td>AYCA</td>\n      <td>2014</td>\n      <td>TAN</td>\n      <td>VOLKSWAGEN</td>\n      <td>JETTA 4C</td>\n      <td>SE</td>\n      <td>4DSN</td>\n      <td>4GT</td>\n      <td>A</td>\n      <td>70568.0</td>\n      <td>27</td>\n      <td>1.0</td>\n      <td>2017-01-02-00.00.00.000000</td>\n      <td>4925422.0</td>\n      <td>4500.0</td>\n    </tr>\n    <tr>\n      <th>6</th>\n      <td>NADE</td>\n      <td>2012</td>\n      <td>BLACK</td>\n      <td>VOLKSWAGEN</td>\n      <td>TIGUAN FWD</td>\n      <td>LE</td>\n      <td>SUV</td>\n      <td>4GT</td>\n      <td>A</td>\n      <td>85124.0</td>\n      <td>38</td>\n      <td>6.0</td>\n      <td>2017-01-02-00.00.00.000000</td>\n      <td>5322633.0</td>\n      <td>8300.0</td>\n    </tr>\n    <tr>\n      <th>7</th>\n      <td>GOAA</td>\n      <td>2016</td>\n      <td>WHITE</td>\n      <td>VOLKSWAGEN</td>\n      <td>PASSAT 4C</td>\n      <td>1.8T S</td>\n      <td>4DSN</td>\n      <td>4GT</td>\n      <td>A</td>\n      <td>16947.0</td>\n      <td>46</td>\n      <td>2.0</td>\n      <td>2017-01-02-00.00.00.000000</td>\n      <td>4905415.0</td>\n      <td>13800.0</td>\n    </tr>\n  </tbody>\n</table>\n</div>"
     },
     "execution_count": 7,
     "metadata": {},
     "output_type": "execute_result"
    }
   ],
   "source": [
    "clean_df = df1.dropna(how='any')\n",
    "clean_df.head()"
   ]
  },
  {
   "cell_type": "code",
   "execution_count": 8,
   "id": "663d8d77",
   "metadata": {},
   "outputs": [
    {
     "name": "stdout",
     "output_type": "stream",
     "text": [
      "<class 'pandas.core.frame.DataFrame'>\n",
      "Int64Index: 61251 entries, 1 to 79613\n",
      "Data columns (total 15 columns):\n",
      " #   Column           Non-Null Count  Dtype  \n",
      "---  ------           --------------  -----  \n",
      " 0   auction_code     61251 non-null  object \n",
      " 1   car_year         61251 non-null  int64  \n",
      " 2   color            61251 non-null  object \n",
      " 3   make             61251 non-null  object \n",
      " 4   model            61251 non-null  object \n",
      " 5   subseries        61251 non-null  object \n",
      " 6   body             61251 non-null  object \n",
      " 7   engine           61251 non-null  object \n",
      " 8   transmission     61251 non-null  object \n",
      " 9   mileage          61251 non-null  float64\n",
      " 10  condition_grade  61251 non-null  object \n",
      " 11  times_run        61251 non-null  float64\n",
      " 12  sold_date        61251 non-null  object \n",
      " 13  seller           61251 non-null  float64\n",
      " 14  sale_price       61251 non-null  float64\n",
      "dtypes: float64(4), int64(1), object(10)\n",
      "memory usage: 7.5+ MB\n"
     ]
    }
   ],
   "source": [
    "clean_df.info()"
   ]
  },
  {
   "cell_type": "code",
   "execution_count": 18,
   "id": "ff300ebb",
   "metadata": {},
   "outputs": [
    {
     "name": "stderr",
     "output_type": "stream",
     "text": [
      "/var/folders/_k/3dfk2s110yz7b_7m_4y_7c8h0000gn/T/ipykernel_3898/1854126862.py:1: SettingWithCopyWarning: \n",
      "A value is trying to be set on a copy of a slice from a DataFrame.\n",
      "Try using .loc[row_indexer,col_indexer] = value instead\n",
      "\n",
      "See the caveats in the documentation: https://pandas.pydata.org/pandas-docs/stable/user_guide/indexing.html#returning-a-view-versus-a-copy\n",
      "  clean_df['formatted_sold_date'] = pd.to_datetime(clean_df['sold_date'], format='%Y-%m-%d-%H.%M.%S.%f')\n"
     ]
    },
    {
     "data": {
      "text/plain": "  auction_code  car_year   color        make       model subseries  body  \\\n1         AYCA      2009   BLACK  VOLKSWAGEN  TIGUAN AWD       SEL   SUV   \n2         AYCA      2009  SILVER  VOLKSWAGEN      ROUTAN        SE   VAN   \n3         AYCA      2014     TAN  VOLKSWAGEN    JETTA 4C        SE  4DSN   \n6         NADE      2012   BLACK  VOLKSWAGEN  TIGUAN FWD        LE   SUV   \n7         GOAA      2016   WHITE  VOLKSWAGEN   PASSAT 4C    1.8T S  4DSN   \n\n  engine transmission  mileage condition_grade  times_run     seller  \\\n1    4GT            A  96696.0              34        1.0  5177137.0   \n2     6G            A  92321.0              31        1.0  4925422.0   \n3    4GT            A  70568.0              27        1.0  4925422.0   \n6    4GT            A  85124.0              38        6.0  5322633.0   \n7    4GT            A  16947.0              46        2.0  4905415.0   \n\n   sale_price formatted_sold_date  \n1      7100.0          2017-01-02  \n2      5800.0          2017-01-02  \n3      4500.0          2017-01-02  \n6      8300.0          2017-01-02  \n7     13800.0          2017-01-02  ",
      "text/html": "<div>\n<style scoped>\n    .dataframe tbody tr th:only-of-type {\n        vertical-align: middle;\n    }\n\n    .dataframe tbody tr th {\n        vertical-align: top;\n    }\n\n    .dataframe thead th {\n        text-align: right;\n    }\n</style>\n<table border=\"1\" class=\"dataframe\">\n  <thead>\n    <tr style=\"text-align: right;\">\n      <th></th>\n      <th>auction_code</th>\n      <th>car_year</th>\n      <th>color</th>\n      <th>make</th>\n      <th>model</th>\n      <th>subseries</th>\n      <th>body</th>\n      <th>engine</th>\n      <th>transmission</th>\n      <th>mileage</th>\n      <th>condition_grade</th>\n      <th>times_run</th>\n      <th>seller</th>\n      <th>sale_price</th>\n      <th>formatted_sold_date</th>\n    </tr>\n  </thead>\n  <tbody>\n    <tr>\n      <th>1</th>\n      <td>AYCA</td>\n      <td>2009</td>\n      <td>BLACK</td>\n      <td>VOLKSWAGEN</td>\n      <td>TIGUAN AWD</td>\n      <td>SEL</td>\n      <td>SUV</td>\n      <td>4GT</td>\n      <td>A</td>\n      <td>96696.0</td>\n      <td>34</td>\n      <td>1.0</td>\n      <td>5177137.0</td>\n      <td>7100.0</td>\n      <td>2017-01-02</td>\n    </tr>\n    <tr>\n      <th>2</th>\n      <td>AYCA</td>\n      <td>2009</td>\n      <td>SILVER</td>\n      <td>VOLKSWAGEN</td>\n      <td>ROUTAN</td>\n      <td>SE</td>\n      <td>VAN</td>\n      <td>6G</td>\n      <td>A</td>\n      <td>92321.0</td>\n      <td>31</td>\n      <td>1.0</td>\n      <td>4925422.0</td>\n      <td>5800.0</td>\n      <td>2017-01-02</td>\n    </tr>\n    <tr>\n      <th>3</th>\n      <td>AYCA</td>\n      <td>2014</td>\n      <td>TAN</td>\n      <td>VOLKSWAGEN</td>\n      <td>JETTA 4C</td>\n      <td>SE</td>\n      <td>4DSN</td>\n      <td>4GT</td>\n      <td>A</td>\n      <td>70568.0</td>\n      <td>27</td>\n      <td>1.0</td>\n      <td>4925422.0</td>\n      <td>4500.0</td>\n      <td>2017-01-02</td>\n    </tr>\n    <tr>\n      <th>6</th>\n      <td>NADE</td>\n      <td>2012</td>\n      <td>BLACK</td>\n      <td>VOLKSWAGEN</td>\n      <td>TIGUAN FWD</td>\n      <td>LE</td>\n      <td>SUV</td>\n      <td>4GT</td>\n      <td>A</td>\n      <td>85124.0</td>\n      <td>38</td>\n      <td>6.0</td>\n      <td>5322633.0</td>\n      <td>8300.0</td>\n      <td>2017-01-02</td>\n    </tr>\n    <tr>\n      <th>7</th>\n      <td>GOAA</td>\n      <td>2016</td>\n      <td>WHITE</td>\n      <td>VOLKSWAGEN</td>\n      <td>PASSAT 4C</td>\n      <td>1.8T S</td>\n      <td>4DSN</td>\n      <td>4GT</td>\n      <td>A</td>\n      <td>16947.0</td>\n      <td>46</td>\n      <td>2.0</td>\n      <td>4905415.0</td>\n      <td>13800.0</td>\n      <td>2017-01-02</td>\n    </tr>\n  </tbody>\n</table>\n</div>"
     },
     "execution_count": 18,
     "metadata": {},
     "output_type": "execute_result"
    }
   ],
   "source": [
    "clean_df['formatted_sold_date'] = pd.to_datetime(clean_df['sold_date'], format='%Y-%m-%d-%H.%M.%S.%f')\n",
    "clean_df = clean_df.drop(columns=['sold_date'])\n",
    "clean_df.head()\n",
    "# clean_df['DOB'] = clean_df['sold_date'].dt.strftime('%m/%d/%Y')\n",
    "# df['Col'] = df['Col'].dt.strftime('%d-%m%Y')"
   ]
  },
  {
   "cell_type": "code",
   "execution_count": 4,
   "outputs": [],
   "source": [
    "def clean_data(df):\n",
    "    new_df = df.dropna(how='any')\n",
    "    new_df['formatted_sold_date'] = pd.to_datetime(new_df['sold_date'], format='%Y-%m-%d-%H.%M.%S.%f')\n",
    "    cc_df = new_df.drop(columns=['sold_date'])\n",
    "\n",
    "    return cc_df\n"
   ],
   "metadata": {
    "collapsed": false,
    "pycharm": {
     "name": "#%%\n"
    }
   }
  },
  {
   "cell_type": "code",
   "execution_count": 10,
   "outputs": [
    {
     "name": "stderr",
     "output_type": "stream",
     "text": [
      "/var/folders/_k/3dfk2s110yz7b_7m_4y_7c8h0000gn/T/ipykernel_5516/1538750144.py:3: SettingWithCopyWarning: \n",
      "A value is trying to be set on a copy of a slice from a DataFrame.\n",
      "Try using .loc[row_indexer,col_indexer] = value instead\n",
      "\n",
      "See the caveats in the documentation: https://pandas.pydata.org/pandas-docs/stable/user_guide/indexing.html#returning-a-view-versus-a-copy\n",
      "  new_df['formatted_sold_date'] = pd.to_datetime(new_df['sold_date'], format='%Y-%m-%d-%H.%M.%S.%f')\n"
     ]
    },
    {
     "data": {
      "text/plain": "      auction_code  car_year   color        make       model   subseries  \\\n1             AYCA      2009   BLACK  VOLKSWAGEN  TIGUAN AWD         SEL   \n2             AYCA      2009  SILVER  VOLKSWAGEN      ROUTAN          SE   \n3             AYCA      2014     TAN  VOLKSWAGEN    JETTA 4C          SE   \n6             NADE      2012   BLACK  VOLKSWAGEN  TIGUAN FWD          LE   \n7             GOAA      2016   WHITE  VOLKSWAGEN   PASSAT 4C      1.8T S   \n...            ...       ...     ...         ...         ...         ...   \n79609          MAA      2017     RED  VOLKSWAGEN        GOLF   WOLFSBURG   \n79610          MAA      2015   WHITE  VOLKSWAGEN       JETTA     GLI SEL   \n79611          MAA      2017   BLACK  VOLKSWAGEN   PASSAT 4C  RLINE COMF   \n79612          MAA      2017    GREY  VOLKSWAGEN       JETTA      1.4T S   \n79613         SLAA      2011    BLUE  VOLKSWAGEN    JETTA 5C          SE   \n\n       body engine transmission   mileage condition_grade  times_run  \\\n1       SUV    4GT            A   96696.0              34        1.0   \n2       VAN     6G            A   92321.0              31        1.0   \n3      4DSN    4GT            A   70568.0              27        1.0   \n6       SUV    4GT            A   85124.0              38        6.0   \n7      4DSN    4GT            A   16947.0              46        2.0   \n...     ...    ...          ...       ...             ...        ...   \n79609  4DHB    4GT            A   22279.0              28        1.0   \n79610  4DSN    4GT            A   76514.0              21        1.0   \n79611  4DSN    4GT            A   24620.0              28        1.0   \n79612  4DSN    4GT            A   42364.0              23        1.0   \n79613  4DSN     5G            A  125802.0              20        2.0   \n\n          seller  sale_price formatted_sold_date  \n1      5177137.0      7100.0          2017-01-02  \n2      4925422.0      5800.0          2017-01-02  \n3      4925422.0      4500.0          2017-01-02  \n6      5322633.0      8300.0          2017-01-02  \n7      4905415.0     13800.0          2017-01-02  \n...          ...         ...                 ...  \n79609  4905414.0     13600.0          2019-06-28  \n79610  4905415.0      3600.0          2019-06-28  \n79611  4905414.0     14400.0          2019-06-28  \n79612  4919311.0      9700.0          2019-06-28  \n79613  5034660.0      3600.0          2019-06-30  \n\n[61251 rows x 15 columns]",
      "text/html": "<div>\n<style scoped>\n    .dataframe tbody tr th:only-of-type {\n        vertical-align: middle;\n    }\n\n    .dataframe tbody tr th {\n        vertical-align: top;\n    }\n\n    .dataframe thead th {\n        text-align: right;\n    }\n</style>\n<table border=\"1\" class=\"dataframe\">\n  <thead>\n    <tr style=\"text-align: right;\">\n      <th></th>\n      <th>auction_code</th>\n      <th>car_year</th>\n      <th>color</th>\n      <th>make</th>\n      <th>model</th>\n      <th>subseries</th>\n      <th>body</th>\n      <th>engine</th>\n      <th>transmission</th>\n      <th>mileage</th>\n      <th>condition_grade</th>\n      <th>times_run</th>\n      <th>seller</th>\n      <th>sale_price</th>\n      <th>formatted_sold_date</th>\n    </tr>\n  </thead>\n  <tbody>\n    <tr>\n      <th>1</th>\n      <td>AYCA</td>\n      <td>2009</td>\n      <td>BLACK</td>\n      <td>VOLKSWAGEN</td>\n      <td>TIGUAN AWD</td>\n      <td>SEL</td>\n      <td>SUV</td>\n      <td>4GT</td>\n      <td>A</td>\n      <td>96696.0</td>\n      <td>34</td>\n      <td>1.0</td>\n      <td>5177137.0</td>\n      <td>7100.0</td>\n      <td>2017-01-02</td>\n    </tr>\n    <tr>\n      <th>2</th>\n      <td>AYCA</td>\n      <td>2009</td>\n      <td>SILVER</td>\n      <td>VOLKSWAGEN</td>\n      <td>ROUTAN</td>\n      <td>SE</td>\n      <td>VAN</td>\n      <td>6G</td>\n      <td>A</td>\n      <td>92321.0</td>\n      <td>31</td>\n      <td>1.0</td>\n      <td>4925422.0</td>\n      <td>5800.0</td>\n      <td>2017-01-02</td>\n    </tr>\n    <tr>\n      <th>3</th>\n      <td>AYCA</td>\n      <td>2014</td>\n      <td>TAN</td>\n      <td>VOLKSWAGEN</td>\n      <td>JETTA 4C</td>\n      <td>SE</td>\n      <td>4DSN</td>\n      <td>4GT</td>\n      <td>A</td>\n      <td>70568.0</td>\n      <td>27</td>\n      <td>1.0</td>\n      <td>4925422.0</td>\n      <td>4500.0</td>\n      <td>2017-01-02</td>\n    </tr>\n    <tr>\n      <th>6</th>\n      <td>NADE</td>\n      <td>2012</td>\n      <td>BLACK</td>\n      <td>VOLKSWAGEN</td>\n      <td>TIGUAN FWD</td>\n      <td>LE</td>\n      <td>SUV</td>\n      <td>4GT</td>\n      <td>A</td>\n      <td>85124.0</td>\n      <td>38</td>\n      <td>6.0</td>\n      <td>5322633.0</td>\n      <td>8300.0</td>\n      <td>2017-01-02</td>\n    </tr>\n    <tr>\n      <th>7</th>\n      <td>GOAA</td>\n      <td>2016</td>\n      <td>WHITE</td>\n      <td>VOLKSWAGEN</td>\n      <td>PASSAT 4C</td>\n      <td>1.8T S</td>\n      <td>4DSN</td>\n      <td>4GT</td>\n      <td>A</td>\n      <td>16947.0</td>\n      <td>46</td>\n      <td>2.0</td>\n      <td>4905415.0</td>\n      <td>13800.0</td>\n      <td>2017-01-02</td>\n    </tr>\n    <tr>\n      <th>...</th>\n      <td>...</td>\n      <td>...</td>\n      <td>...</td>\n      <td>...</td>\n      <td>...</td>\n      <td>...</td>\n      <td>...</td>\n      <td>...</td>\n      <td>...</td>\n      <td>...</td>\n      <td>...</td>\n      <td>...</td>\n      <td>...</td>\n      <td>...</td>\n      <td>...</td>\n    </tr>\n    <tr>\n      <th>79609</th>\n      <td>MAA</td>\n      <td>2017</td>\n      <td>RED</td>\n      <td>VOLKSWAGEN</td>\n      <td>GOLF</td>\n      <td>WOLFSBURG</td>\n      <td>4DHB</td>\n      <td>4GT</td>\n      <td>A</td>\n      <td>22279.0</td>\n      <td>28</td>\n      <td>1.0</td>\n      <td>4905414.0</td>\n      <td>13600.0</td>\n      <td>2019-06-28</td>\n    </tr>\n    <tr>\n      <th>79610</th>\n      <td>MAA</td>\n      <td>2015</td>\n      <td>WHITE</td>\n      <td>VOLKSWAGEN</td>\n      <td>JETTA</td>\n      <td>GLI SEL</td>\n      <td>4DSN</td>\n      <td>4GT</td>\n      <td>A</td>\n      <td>76514.0</td>\n      <td>21</td>\n      <td>1.0</td>\n      <td>4905415.0</td>\n      <td>3600.0</td>\n      <td>2019-06-28</td>\n    </tr>\n    <tr>\n      <th>79611</th>\n      <td>MAA</td>\n      <td>2017</td>\n      <td>BLACK</td>\n      <td>VOLKSWAGEN</td>\n      <td>PASSAT 4C</td>\n      <td>RLINE COMF</td>\n      <td>4DSN</td>\n      <td>4GT</td>\n      <td>A</td>\n      <td>24620.0</td>\n      <td>28</td>\n      <td>1.0</td>\n      <td>4905414.0</td>\n      <td>14400.0</td>\n      <td>2019-06-28</td>\n    </tr>\n    <tr>\n      <th>79612</th>\n      <td>MAA</td>\n      <td>2017</td>\n      <td>GREY</td>\n      <td>VOLKSWAGEN</td>\n      <td>JETTA</td>\n      <td>1.4T S</td>\n      <td>4DSN</td>\n      <td>4GT</td>\n      <td>A</td>\n      <td>42364.0</td>\n      <td>23</td>\n      <td>1.0</td>\n      <td>4919311.0</td>\n      <td>9700.0</td>\n      <td>2019-06-28</td>\n    </tr>\n    <tr>\n      <th>79613</th>\n      <td>SLAA</td>\n      <td>2011</td>\n      <td>BLUE</td>\n      <td>VOLKSWAGEN</td>\n      <td>JETTA 5C</td>\n      <td>SE</td>\n      <td>4DSN</td>\n      <td>5G</td>\n      <td>A</td>\n      <td>125802.0</td>\n      <td>20</td>\n      <td>2.0</td>\n      <td>5034660.0</td>\n      <td>3600.0</td>\n      <td>2019-06-30</td>\n    </tr>\n  </tbody>\n</table>\n<p>61251 rows × 15 columns</p>\n</div>"
     },
     "execution_count": 10,
     "metadata": {},
     "output_type": "execute_result"
    }
   ],
   "source": [
    "clean_data(df1)\n",
    "# for df in df_list:\n",
    "#     clean_data(df)"
   ],
   "metadata": {
    "collapsed": false,
    "pycharm": {
     "name": "#%%\n"
    }
   }
  },
  {
   "cell_type": "markdown",
   "source": [],
   "metadata": {
    "collapsed": false
   }
  },
  {
   "cell_type": "code",
   "execution_count": 8,
   "outputs": [
    {
     "data": {
      "text/plain": "  auction_code  car_year  color   make       model subseries  body engine  \\\n0         AYCA      2008  BROWN  LEXUS      ES 350       NaN  4DSN     6G   \n1         AYCA      2006  WHITE  LEXUS  IS 250 4X2       NaN  4DSN     6G   \n2         AYCA      2015  WHITE  LEXUS      GX 460       NaN   SUV     8G   \n3          AAA      2014  WHITE  LEXUS  IS 250 4X2       NaN  4DSN     6G   \n4          AAA      2014  BLACK  LEXUS  GS 350 4X2   F SPORT  4DSN     6G   \n\n  transmission  mileage condition_grade  times_run  \\\n0            A    62558              31          1   \n1            A   191359              26          1   \n2            A    30787              42          1   \n3            A    37852              41          2   \n4            A    35508              34          7   \n\n                    sold_date   seller  sale_price  \n0  2017-01-02-00.00.00.000000  4925422       11400  \n1  2017-01-02-00.00.00.000000  4925422        4400  \n2  2017-01-02-00.00.00.000000  4918814       37000  \n3  2017-01-02-00.00.00.000000  4905686       21100  \n4  2017-01-02-00.00.00.000000  4905686       26500  ",
      "text/html": "<div>\n<style scoped>\n    .dataframe tbody tr th:only-of-type {\n        vertical-align: middle;\n    }\n\n    .dataframe tbody tr th {\n        vertical-align: top;\n    }\n\n    .dataframe thead th {\n        text-align: right;\n    }\n</style>\n<table border=\"1\" class=\"dataframe\">\n  <thead>\n    <tr style=\"text-align: right;\">\n      <th></th>\n      <th>auction_code</th>\n      <th>car_year</th>\n      <th>color</th>\n      <th>make</th>\n      <th>model</th>\n      <th>subseries</th>\n      <th>body</th>\n      <th>engine</th>\n      <th>transmission</th>\n      <th>mileage</th>\n      <th>condition_grade</th>\n      <th>times_run</th>\n      <th>sold_date</th>\n      <th>seller</th>\n      <th>sale_price</th>\n    </tr>\n  </thead>\n  <tbody>\n    <tr>\n      <th>0</th>\n      <td>AYCA</td>\n      <td>2008</td>\n      <td>BROWN</td>\n      <td>LEXUS</td>\n      <td>ES 350</td>\n      <td>NaN</td>\n      <td>4DSN</td>\n      <td>6G</td>\n      <td>A</td>\n      <td>62558</td>\n      <td>31</td>\n      <td>1</td>\n      <td>2017-01-02-00.00.00.000000</td>\n      <td>4925422</td>\n      <td>11400</td>\n    </tr>\n    <tr>\n      <th>1</th>\n      <td>AYCA</td>\n      <td>2006</td>\n      <td>WHITE</td>\n      <td>LEXUS</td>\n      <td>IS 250 4X2</td>\n      <td>NaN</td>\n      <td>4DSN</td>\n      <td>6G</td>\n      <td>A</td>\n      <td>191359</td>\n      <td>26</td>\n      <td>1</td>\n      <td>2017-01-02-00.00.00.000000</td>\n      <td>4925422</td>\n      <td>4400</td>\n    </tr>\n    <tr>\n      <th>2</th>\n      <td>AYCA</td>\n      <td>2015</td>\n      <td>WHITE</td>\n      <td>LEXUS</td>\n      <td>GX 460</td>\n      <td>NaN</td>\n      <td>SUV</td>\n      <td>8G</td>\n      <td>A</td>\n      <td>30787</td>\n      <td>42</td>\n      <td>1</td>\n      <td>2017-01-02-00.00.00.000000</td>\n      <td>4918814</td>\n      <td>37000</td>\n    </tr>\n    <tr>\n      <th>3</th>\n      <td>AAA</td>\n      <td>2014</td>\n      <td>WHITE</td>\n      <td>LEXUS</td>\n      <td>IS 250 4X2</td>\n      <td>NaN</td>\n      <td>4DSN</td>\n      <td>6G</td>\n      <td>A</td>\n      <td>37852</td>\n      <td>41</td>\n      <td>2</td>\n      <td>2017-01-02-00.00.00.000000</td>\n      <td>4905686</td>\n      <td>21100</td>\n    </tr>\n    <tr>\n      <th>4</th>\n      <td>AAA</td>\n      <td>2014</td>\n      <td>BLACK</td>\n      <td>LEXUS</td>\n      <td>GS 350 4X2</td>\n      <td>F SPORT</td>\n      <td>4DSN</td>\n      <td>6G</td>\n      <td>A</td>\n      <td>35508</td>\n      <td>34</td>\n      <td>7</td>\n      <td>2017-01-02-00.00.00.000000</td>\n      <td>4905686</td>\n      <td>26500</td>\n    </tr>\n  </tbody>\n</table>\n</div>"
     },
     "execution_count": 8,
     "metadata": {},
     "output_type": "execute_result"
    }
   ],
   "source": [
    "df.head()"
   ],
   "metadata": {
    "collapsed": false,
    "pycharm": {
     "name": "#%%\n"
    }
   }
  },
  {
   "cell_type": "code",
   "execution_count": null,
   "outputs": [],
   "source": [],
   "metadata": {
    "collapsed": false,
    "pycharm": {
     "name": "#%%\n"
    }
   }
  },
  {
   "cell_type": "code",
   "execution_count": null,
   "outputs": [],
   "source": [],
   "metadata": {
    "collapsed": false,
    "pycharm": {
     "name": "#%%\n"
    }
   }
  }
 ],
 "metadata": {
  "interpreter": {
   "hash": "c13a3f10964a8b99620ffcda581fcde8e43b289abc8b1a260a3fac33f2cc771c"
  },
  "kernelspec": {
   "display_name": "Python 3.7.11 ('p37env')",
   "language": "python",
   "name": "python3"
  },
  "language_info": {
   "codemirror_mode": {
    "name": "ipython",
    "version": 3
   },
   "file_extension": ".py",
   "mimetype": "text/x-python",
   "name": "python",
   "nbconvert_exporter": "python",
   "pygments_lexer": "ipython3",
   "version": "3.7.11"
  }
 },
 "nbformat": 4,
 "nbformat_minor": 5
}