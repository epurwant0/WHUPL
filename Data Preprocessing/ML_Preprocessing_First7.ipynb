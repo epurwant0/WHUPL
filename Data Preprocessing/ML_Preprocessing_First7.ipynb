{
 "cells": [
  {
   "cell_type": "code",
   "execution_count": 1,
   "metadata": {},
   "outputs": [],
   "source": [
    "import pandas as pd\n",
    "from sklearn.model_selection import train_test_split\n",
    "from sklearn.preprocessing import StandardScaler, MinMaxScaler, LabelEncoder\n",
    "import numpy as np"
   ]
  },
  {
   "cell_type": "code",
   "execution_count": 2,
   "metadata": {
    "pycharm": {
     "name": "#%%\n"
    }
   },
   "outputs": [],
   "source": [
    "xls = pd.ExcelFile('Resources/Car_Data.xlsx')\n",
    "df1 = pd.read_excel(xls, 'Volkswagon')\n",
    "df2 = pd.read_excel(xls, 'Toyota')\n",
    "df3 = pd.read_excel(xls, 'Porsche')\n",
    "df4 = pd.read_excel(xls, 'Mercedes')\n",
    "df5 = pd.read_excel(xls, 'Maserati')\n",
    "df6 = pd.read_excel(xls, 'Lincoln')\n",
    "df7 = pd.read_excel(xls, 'Lexus')\n",
    "# df8 = pd.read_excel(xls, 'Kia')\n",
    "# df9 = pd.read_excel(xls, 'Landrover')\n",
    "# df10 = pd.read_excel(xls, 'Volkswagon')\n",
    "# df11 = pd.read_excel(xls, 'Honda')\n",
    "# df12 = pd.read_excel(xls, 'Hyundai')\n",
    "# df13 = pd.read_excel(xls, 'Acura')\n",
    "# df14 = pd.read_excel(xls, 'Audi')\n",
    "# df15 = pd.read_excel(xls, 'BMW')\n"
   ]
  },
  {
   "cell_type": "code",
   "execution_count": 3,
   "metadata": {
    "pycharm": {
     "name": "#%%\n"
    }
   },
   "outputs": [],
   "source": [
    "# df_list = [df1, df2, df3, df4, df5, df6, df7]\n"
   ]
  },
  {
   "cell_type": "code",
   "execution_count": 4,
   "metadata": {
    "pycharm": {
     "name": "#%%\n"
    }
   },
   "outputs": [],
   "source": [
    "def clean_data(df):\n",
    "    new_df = df.dropna(how='any')\n",
    "    new_df['formatted_sold_date'] = pd.to_datetime(new_df['sold_date'], format='%Y-%m-%d-%H.%M.%S.%f')\n",
    "    cc_df = new_df.drop(columns=['sold_date'])\n",
    "    cc_df['condition_grade'] = cc_df['condition_grade'].replace(\n",
    "    {'SL': 0, 'RG': 20, 'PR': 10, 'EC':50, 'CL':40, 'C': 40, 'AV':30, 'A': 30})\n",
    "    # convert to categorical using pd.get_dummies\n",
    "    cc_df['sold_date_year'] = cc_df['formatted_sold_date'].dt.year\n",
    "    cc_df['sold_date_month'] = cc_df['formatted_sold_date'].dt.month\n",
    "    drop_df = cc_df.drop(columns=['formatted_sold_date', 'subseries'])\n",
    "\n",
    "    # df_dummies = pd.get_dummies(drop_df, columns=['sold_date_year', 'sold_date_month'])\n",
    "\n",
    "    return drop_df\n"
   ]
  },
  {
   "cell_type": "code",
   "execution_count": 5,
   "metadata": {
    "pycharm": {
     "name": "#%%\n"
    }
   },
   "outputs": [
    {
     "name": "stderr",
     "output_type": "stream",
     "text": [
      "<ipython-input-4-12064be35d8b>:3: SettingWithCopyWarning: \n",
      "A value is trying to be set on a copy of a slice from a DataFrame.\n",
      "Try using .loc[row_indexer,col_indexer] = value instead\n",
      "\n",
      "See the caveats in the documentation: https://pandas.pydata.org/pandas-docs/stable/user_guide/indexing.html#returning-a-view-versus-a-copy\n",
      "  new_df['formatted_sold_date'] = pd.to_datetime(new_df['sold_date'], format='%Y-%m-%d-%H.%M.%S.%f')\n",
      "<ipython-input-4-12064be35d8b>:3: SettingWithCopyWarning: \n",
      "A value is trying to be set on a copy of a slice from a DataFrame.\n",
      "Try using .loc[row_indexer,col_indexer] = value instead\n",
      "\n",
      "See the caveats in the documentation: https://pandas.pydata.org/pandas-docs/stable/user_guide/indexing.html#returning-a-view-versus-a-copy\n",
      "  new_df['formatted_sold_date'] = pd.to_datetime(new_df['sold_date'], format='%Y-%m-%d-%H.%M.%S.%f')\n",
      "<ipython-input-4-12064be35d8b>:3: SettingWithCopyWarning: \n",
      "A value is trying to be set on a copy of a slice from a DataFrame.\n",
      "Try using .loc[row_indexer,col_indexer] = value instead\n",
      "\n",
      "See the caveats in the documentation: https://pandas.pydata.org/pandas-docs/stable/user_guide/indexing.html#returning-a-view-versus-a-copy\n",
      "  new_df['formatted_sold_date'] = pd.to_datetime(new_df['sold_date'], format='%Y-%m-%d-%H.%M.%S.%f')\n",
      "<ipython-input-4-12064be35d8b>:3: SettingWithCopyWarning: \n",
      "A value is trying to be set on a copy of a slice from a DataFrame.\n",
      "Try using .loc[row_indexer,col_indexer] = value instead\n",
      "\n",
      "See the caveats in the documentation: https://pandas.pydata.org/pandas-docs/stable/user_guide/indexing.html#returning-a-view-versus-a-copy\n",
      "  new_df['formatted_sold_date'] = pd.to_datetime(new_df['sold_date'], format='%Y-%m-%d-%H.%M.%S.%f')\n",
      "<ipython-input-4-12064be35d8b>:3: SettingWithCopyWarning: \n",
      "A value is trying to be set on a copy of a slice from a DataFrame.\n",
      "Try using .loc[row_indexer,col_indexer] = value instead\n",
      "\n",
      "See the caveats in the documentation: https://pandas.pydata.org/pandas-docs/stable/user_guide/indexing.html#returning-a-view-versus-a-copy\n",
      "  new_df['formatted_sold_date'] = pd.to_datetime(new_df['sold_date'], format='%Y-%m-%d-%H.%M.%S.%f')\n",
      "<ipython-input-4-12064be35d8b>:3: SettingWithCopyWarning: \n",
      "A value is trying to be set on a copy of a slice from a DataFrame.\n",
      "Try using .loc[row_indexer,col_indexer] = value instead\n",
      "\n",
      "See the caveats in the documentation: https://pandas.pydata.org/pandas-docs/stable/user_guide/indexing.html#returning-a-view-versus-a-copy\n",
      "  new_df['formatted_sold_date'] = pd.to_datetime(new_df['sold_date'], format='%Y-%m-%d-%H.%M.%S.%f')\n",
      "<ipython-input-4-12064be35d8b>:3: SettingWithCopyWarning: \n",
      "A value is trying to be set on a copy of a slice from a DataFrame.\n",
      "Try using .loc[row_indexer,col_indexer] = value instead\n",
      "\n",
      "See the caveats in the documentation: https://pandas.pydata.org/pandas-docs/stable/user_guide/indexing.html#returning-a-view-versus-a-copy\n",
      "  new_df['formatted_sold_date'] = pd.to_datetime(new_df['sold_date'], format='%Y-%m-%d-%H.%M.%S.%f')\n"
     ]
    }
   ],
   "source": [
    "clean_df1 = clean_data(df1)\n",
    "clean_df2 = clean_data(df2)\n",
    "clean_df3 = clean_data(df3)\n",
    "clean_df4 = clean_data(df4)\n",
    "clean_df5 = clean_data(df5)\n",
    "clean_df6 = clean_data(df6)\n",
    "clean_df7 = clean_data(df7)\n",
    "# for df in df_list:\n",
    "#     clean_data(df)"
   ]
  },
  {
   "cell_type": "code",
   "execution_count": 6,
   "metadata": {
    "pycharm": {
     "name": "#%%\n"
    }
   },
   "outputs": [],
   "source": [
    "# clean_df1['sold_date_year'] = clean_df1['formatted_sold_date'].dt.year\n",
    "# clean_df1['sold_date_month'] = clean_df1['formatted_sold_date'].dt.month\n",
    "# clean_df1['sold_date_week'] = clean_df1['formatted_sold_date'].dt.isocalendar().week\n",
    "# clean_df1['sold_date_day'] = clean_df1['formatted_sold_date'].dt.day"
   ]
  },
  {
   "cell_type": "code",
   "execution_count": 7,
   "metadata": {
    "pycharm": {
     "name": "#%%\n"
    }
   },
   "outputs": [
    {
     "data": {
      "text/plain": [
       "80"
      ]
     },
     "execution_count": 7,
     "metadata": {},
     "output_type": "execute_result"
    }
   ],
   "source": [
    "clean_df1['model'].nunique()"
   ]
  },
  {
   "cell_type": "code",
   "execution_count": 8,
   "metadata": {
    "pycharm": {
     "name": "#%%\n"
    }
   },
   "outputs": [
    {
     "name": "stdout",
     "output_type": "stream",
     "text": [
      "Duplicate entries 1: 3\n",
      "Duplicate entries 2: 0\n",
      "Duplicate entries 3: 1\n",
      "Duplicate entries 4: 0\n",
      "Duplicate entries 5: 0\n",
      "Duplicate entries 6: 1\n",
      "Duplicate entries 7: 0\n"
     ]
    }
   ],
   "source": [
    "print(f\"Duplicate entries 1: {clean_df1.duplicated().sum()}\")\n",
    "print(f\"Duplicate entries 2: {clean_df2.duplicated().sum()}\")\n",
    "print(f\"Duplicate entries 3: {clean_df3.duplicated().sum()}\")\n",
    "print(f\"Duplicate entries 4: {clean_df4.duplicated().sum()}\")\n",
    "print(f\"Duplicate entries 5: {clean_df5.duplicated().sum()}\")\n",
    "print(f\"Duplicate entries 6: {clean_df6.duplicated().sum()}\")\n",
    "print(f\"Duplicate entries 7: {clean_df7.duplicated().sum()}\")"
   ]
  },
  {
   "cell_type": "code",
   "execution_count": 9,
   "metadata": {
    "pycharm": {
     "name": "#%%\n"
    }
   },
   "outputs": [
    {
     "name": "stdout",
     "output_type": "stream",
     "text": [
      "Duplicate entries 6: 0\n"
     ]
    }
   ],
   "source": [
    "no_dups_df6 = clean_df6.drop_duplicates()\n",
    "print(f\"Duplicate entries 6: {no_dups_df6.duplicated().sum()}\")\n"
   ]
  },
  {
   "cell_type": "code",
   "execution_count": 10,
   "metadata": {
    "pycharm": {
     "name": "#%%\n"
    }
   },
   "outputs": [
    {
     "data": {
      "text/plain": [
       "37    764\n",
       "42    724\n",
       "41    685\n",
       "43    684\n",
       "44    663\n",
       "46    663\n",
       "45    656\n",
       "36    649\n",
       "39    592\n",
       "40    577\n",
       "38    575\n",
       "35    573\n",
       "28    409\n",
       "34    397\n",
       "29    357\n",
       "50    340\n",
       "27    310\n",
       "33    282\n",
       "26    279\n",
       "48    245\n",
       "32    245\n",
       "25    242\n",
       "31    240\n",
       "47    227\n",
       "24    223\n",
       "30    213\n",
       "49    183\n",
       "21    150\n",
       "23    148\n",
       "20    133\n",
       "22    113\n",
       "19     94\n",
       "17     76\n",
       "13     74\n",
       "18     68\n",
       "16     50\n",
       "10     45\n",
       "15     36\n",
       "14     29\n",
       "0       7\n",
       "12      1\n",
       "11      1\n",
       "Name: condition_grade, dtype: int64"
      ]
     },
     "execution_count": 10,
     "metadata": {},
     "output_type": "execute_result"
    }
   ],
   "source": [
    "clean_df7['condition_grade'].value_counts()"
   ]
  },
  {
   "cell_type": "code",
   "execution_count": 11,
   "metadata": {
    "pycharm": {
     "name": "#%%\n"
    }
   },
   "outputs": [
    {
     "name": "stdout",
     "output_type": "stream",
     "text": [
      "<class 'pandas.core.frame.DataFrame'>\n",
      "Int64Index: 61251 entries, 1 to 79613\n",
      "Data columns (total 15 columns):\n",
      " #   Column           Non-Null Count  Dtype  \n",
      "---  ------           --------------  -----  \n",
      " 0   auction_code     61251 non-null  object \n",
      " 1   car_year         61251 non-null  int64  \n",
      " 2   color            61251 non-null  object \n",
      " 3   make             61251 non-null  object \n",
      " 4   model            61251 non-null  object \n",
      " 5   body             61251 non-null  object \n",
      " 6   engine           61251 non-null  object \n",
      " 7   transmission     61251 non-null  object \n",
      " 8   mileage          61251 non-null  float64\n",
      " 9   condition_grade  61251 non-null  int64  \n",
      " 10  times_run        61251 non-null  float64\n",
      " 11  seller           61251 non-null  float64\n",
      " 12  sale_price       61251 non-null  float64\n",
      " 13  sold_date_year   61251 non-null  int64  \n",
      " 14  sold_date_month  61251 non-null  int64  \n",
      "dtypes: float64(4), int64(4), object(7)\n",
      "memory usage: 7.5+ MB\n"
     ]
    }
   ],
   "source": [
    "clean_df1.info()"
   ]
  },
  {
   "cell_type": "code",
   "execution_count": 12,
   "metadata": {
    "pycharm": {
     "name": "#%%\n"
    }
   },
   "outputs": [
    {
     "data": {
      "text/plain": [
       "auction_code     83\n",
       "color           149\n",
       "make              1\n",
       "model            80\n",
       "body             14\n",
       "engine           21\n",
       "transmission      7\n",
       "dtype: int64"
      ]
     },
     "execution_count": 12,
     "metadata": {},
     "output_type": "execute_result"
    }
   ],
   "source": [
    "# Generate our categorical variable lists\n",
    "car_cat = clean_df1.dtypes[clean_df1.dtypes == \"object\"].index.tolist()\n",
    "# Check the number of unique values in each column\n",
    "clean_df1[car_cat].nunique()"
   ]
  },
  {
   "cell_type": "code",
   "execution_count": 13,
   "metadata": {
    "pycharm": {
     "name": "#%%\n"
    }
   },
   "outputs": [],
   "source": [
    "color_cnt = clean_df1[car_cat][\"color\"].value_counts()"
   ]
  },
  {
   "cell_type": "code",
   "execution_count": 14,
   "metadata": {
    "pycharm": {
     "name": "#%%\n"
    }
   },
   "outputs": [
    {
     "data": {
      "text/plain": [
       "BLACK       15488\n",
       "WHITE       11948\n",
       "GRAY         9333\n",
       "SILVER       8878\n",
       "BLUE         6620\n",
       "RED          3620\n",
       "GREY         1657\n",
       "BROWN        1024\n",
       "TAN           642\n",
       "GOLD          541\n",
       "MAROON        465\n",
       "GREEN         331\n",
       "YELLOW        259\n",
       "Other         169\n",
       "ORANGE         47\n",
       "PURPLE         35\n",
       "BLACK EX       28\n",
       "OFFWHITE       27\n",
       "COPPER         26\n",
       "PLATINUM       22\n",
       "CANDY WH       20\n",
       "TEAL           16\n",
       "PURE WHI       15\n",
       "REFLEX S       13\n",
       "BEIGE          11\n",
       "DEEP BLA        8\n",
       "BLACK UN        8\n",
       "Name: color, dtype: int64"
      ]
     },
     "execution_count": 14,
     "metadata": {},
     "output_type": "execute_result"
    }
   ],
   "source": [
    "# Choose a cutoff value and create a list of application types to be replaced\n",
    "# use the variable name `application_types_to_replace`\n",
    "color_types_to_replace = list(color_cnt[color_cnt < 8].index)\n",
    "\n",
    "# Replace in dataframe\n",
    "for color in color_types_to_replace:\n",
    "    clean_df1['color'] = clean_df1['color'].replace(color,\"Other\")\n",
    "\n",
    "# Check to make sure binning was successful\n",
    "clean_df1['color'].value_counts()"
   ]
  },
  {
   "cell_type": "code",
   "execution_count": 15,
   "metadata": {
    "pycharm": {
     "name": "#%%\n"
    }
   },
   "outputs": [
    {
     "name": "stdout",
     "output_type": "stream",
     "text": [
      "['BLACK' 'SILVER' 'TAN' 'WHITE' 'RED' 'BLUE' 'GRAY' 'BROWN' 'GOLD' 'GREY'\n",
      " 'BEIGE' 'YELLOW' 'MAROON' 'GREEN' 'Other' 'BLACK UN' 'REFLEX S'\n",
      " 'CANDY WH' 'COPPER' 'TEAL' 'BLACK EX' 'PURPLE' 'DEEP BLA' 'PURE WHI'\n",
      " 'ORANGE' 'PLATINUM' 'OFFWHITE']\n"
     ]
    }
   ],
   "source": [
    "print(clean_df1['color'].unique())"
   ]
  },
  {
   "cell_type": "code",
   "execution_count": 16,
   "metadata": {
    "pycharm": {
     "name": "#%%\n"
    }
   },
   "outputs": [],
   "source": [
    "clean_df1['color'] = clean_df1['color'].replace({\n",
    "    'GREY': 'GRAY', 'WHITEW': 'WHITE', 'CANDY WH': 'WHITE', 'BLACK EX': 'BLACK', 'DEEP BLA': 'BLACK', 'NIGHT BL': 'BLACK', 'LT BLUE': 'BLUE', 'BLUEK': 'BLUE', 'NOIR': 'BLACK', 'TWILIGHT': 'BLACK', 'CHAMPGNE': 'CHAMPAGN', 'DKBLUE': 'BLUE', 'RREY': 'GRAY', 'CREAM': 'WHITE', 'SLIVER': 'SILVER', 'WHITEGOL':'WHITE', 'TITANIUM': 'SILVER', 'BLACK  5': 'BLACK', '8LACK': 'BLACK', ' WHT GOLD': 'WHITE', 'OFFWHITE': 'WHITE', 'DK BLUE': 'BLUE', '8LUE': 'BLUE', '3HITE': 'WHITE', '0RAY': 'GRAY', '1HITE': 'WHITE', 'TOFFEE B': 'BROWN', '5LACK': 'BLACK', 'DRK BLUE': 'BLUE', 'PURE WHI': 'WHITE', 'BLACK UN': 'BLACK', 'BEIGE': 'TAN', 'COPPER': 'GOLD', 'PLATINUM': 'SILVER', 'REFLEX S': 'SILVER', 'TEAL': 'GREEN'\n",
    "})"
   ]
  },
  {
   "cell_type": "code",
   "execution_count": 17,
   "metadata": {
    "pycharm": {
     "name": "#%%\n"
    }
   },
   "outputs": [],
   "source": [
    "def binning_function(col, cut_points, labels=None):\n",
    "    minvalue = col.min()\n",
    "    maxvalue = col.max()\n",
    "    break_points = [minvalue] + cut_points + [maxvalue]\n",
    "    print(break_points)\n",
    "    if not labels:\n",
    "        labels = range(len(cut_points) + 1)\n",
    "    col_bin = pd.cut(col, bins=break_points, labels=labels, include_lowest=True)\n",
    "    return col_bin"
   ]
  },
  {
   "cell_type": "code",
   "execution_count": 18,
   "metadata": {
    "pycharm": {
     "name": "#%%\n"
    }
   },
   "outputs": [
    {
     "name": "stdout",
     "output_type": "stream",
     "text": [
      "[0.0, 25000, 50000, 75000, 100000, 999999.0]\n"
     ]
    },
    {
     "data": {
      "text/html": [
       "<div>\n",
       "<style scoped>\n",
       "    .dataframe tbody tr th:only-of-type {\n",
       "        vertical-align: middle;\n",
       "    }\n",
       "\n",
       "    .dataframe tbody tr th {\n",
       "        vertical-align: top;\n",
       "    }\n",
       "\n",
       "    .dataframe thead th {\n",
       "        text-align: right;\n",
       "    }\n",
       "</style>\n",
       "<table border=\"1\" class=\"dataframe\">\n",
       "  <thead>\n",
       "    <tr style=\"text-align: right;\">\n",
       "      <th></th>\n",
       "      <th>auction_code</th>\n",
       "      <th>car_year</th>\n",
       "      <th>color</th>\n",
       "      <th>make</th>\n",
       "      <th>model</th>\n",
       "      <th>body</th>\n",
       "      <th>engine</th>\n",
       "      <th>transmission</th>\n",
       "      <th>mileage</th>\n",
       "      <th>condition_grade</th>\n",
       "      <th>times_run</th>\n",
       "      <th>seller</th>\n",
       "      <th>sale_price</th>\n",
       "      <th>sold_date_year</th>\n",
       "      <th>sold_date_month</th>\n",
       "      <th>vehicle_mileage_category</th>\n",
       "    </tr>\n",
       "  </thead>\n",
       "  <tbody>\n",
       "    <tr>\n",
       "      <th>1</th>\n",
       "      <td>AYCA</td>\n",
       "      <td>2009</td>\n",
       "      <td>BLACK</td>\n",
       "      <td>VOLKSWAGEN</td>\n",
       "      <td>TIGUAN AWD</td>\n",
       "      <td>SUV</td>\n",
       "      <td>4GT</td>\n",
       "      <td>A</td>\n",
       "      <td>96696.0</td>\n",
       "      <td>34</td>\n",
       "      <td>1.0</td>\n",
       "      <td>5177137.0</td>\n",
       "      <td>7100.0</td>\n",
       "      <td>2017</td>\n",
       "      <td>1</td>\n",
       "      <td>75k - 100k</td>\n",
       "    </tr>\n",
       "    <tr>\n",
       "      <th>2</th>\n",
       "      <td>AYCA</td>\n",
       "      <td>2009</td>\n",
       "      <td>SILVER</td>\n",
       "      <td>VOLKSWAGEN</td>\n",
       "      <td>ROUTAN</td>\n",
       "      <td>VAN</td>\n",
       "      <td>6G</td>\n",
       "      <td>A</td>\n",
       "      <td>92321.0</td>\n",
       "      <td>31</td>\n",
       "      <td>1.0</td>\n",
       "      <td>4925422.0</td>\n",
       "      <td>5800.0</td>\n",
       "      <td>2017</td>\n",
       "      <td>1</td>\n",
       "      <td>75k - 100k</td>\n",
       "    </tr>\n",
       "    <tr>\n",
       "      <th>3</th>\n",
       "      <td>AYCA</td>\n",
       "      <td>2014</td>\n",
       "      <td>TAN</td>\n",
       "      <td>VOLKSWAGEN</td>\n",
       "      <td>JETTA 4C</td>\n",
       "      <td>4DSN</td>\n",
       "      <td>4GT</td>\n",
       "      <td>A</td>\n",
       "      <td>70568.0</td>\n",
       "      <td>27</td>\n",
       "      <td>1.0</td>\n",
       "      <td>4925422.0</td>\n",
       "      <td>4500.0</td>\n",
       "      <td>2017</td>\n",
       "      <td>1</td>\n",
       "      <td>50k - 75k</td>\n",
       "    </tr>\n",
       "    <tr>\n",
       "      <th>6</th>\n",
       "      <td>NADE</td>\n",
       "      <td>2012</td>\n",
       "      <td>BLACK</td>\n",
       "      <td>VOLKSWAGEN</td>\n",
       "      <td>TIGUAN FWD</td>\n",
       "      <td>SUV</td>\n",
       "      <td>4GT</td>\n",
       "      <td>A</td>\n",
       "      <td>85124.0</td>\n",
       "      <td>38</td>\n",
       "      <td>6.0</td>\n",
       "      <td>5322633.0</td>\n",
       "      <td>8300.0</td>\n",
       "      <td>2017</td>\n",
       "      <td>1</td>\n",
       "      <td>75k - 100k</td>\n",
       "    </tr>\n",
       "    <tr>\n",
       "      <th>7</th>\n",
       "      <td>GOAA</td>\n",
       "      <td>2016</td>\n",
       "      <td>WHITE</td>\n",
       "      <td>VOLKSWAGEN</td>\n",
       "      <td>PASSAT 4C</td>\n",
       "      <td>4DSN</td>\n",
       "      <td>4GT</td>\n",
       "      <td>A</td>\n",
       "      <td>16947.0</td>\n",
       "      <td>46</td>\n",
       "      <td>2.0</td>\n",
       "      <td>4905415.0</td>\n",
       "      <td>13800.0</td>\n",
       "      <td>2017</td>\n",
       "      <td>1</td>\n",
       "      <td>&lt; 25k</td>\n",
       "    </tr>\n",
       "    <tr>\n",
       "      <th>...</th>\n",
       "      <td>...</td>\n",
       "      <td>...</td>\n",
       "      <td>...</td>\n",
       "      <td>...</td>\n",
       "      <td>...</td>\n",
       "      <td>...</td>\n",
       "      <td>...</td>\n",
       "      <td>...</td>\n",
       "      <td>...</td>\n",
       "      <td>...</td>\n",
       "      <td>...</td>\n",
       "      <td>...</td>\n",
       "      <td>...</td>\n",
       "      <td>...</td>\n",
       "      <td>...</td>\n",
       "      <td>...</td>\n",
       "    </tr>\n",
       "    <tr>\n",
       "      <th>79609</th>\n",
       "      <td>MAA</td>\n",
       "      <td>2017</td>\n",
       "      <td>RED</td>\n",
       "      <td>VOLKSWAGEN</td>\n",
       "      <td>GOLF</td>\n",
       "      <td>4DHB</td>\n",
       "      <td>4GT</td>\n",
       "      <td>A</td>\n",
       "      <td>22279.0</td>\n",
       "      <td>28</td>\n",
       "      <td>1.0</td>\n",
       "      <td>4905414.0</td>\n",
       "      <td>13600.0</td>\n",
       "      <td>2019</td>\n",
       "      <td>6</td>\n",
       "      <td>&lt; 25k</td>\n",
       "    </tr>\n",
       "    <tr>\n",
       "      <th>79610</th>\n",
       "      <td>MAA</td>\n",
       "      <td>2015</td>\n",
       "      <td>WHITE</td>\n",
       "      <td>VOLKSWAGEN</td>\n",
       "      <td>JETTA</td>\n",
       "      <td>4DSN</td>\n",
       "      <td>4GT</td>\n",
       "      <td>A</td>\n",
       "      <td>76514.0</td>\n",
       "      <td>21</td>\n",
       "      <td>1.0</td>\n",
       "      <td>4905415.0</td>\n",
       "      <td>3600.0</td>\n",
       "      <td>2019</td>\n",
       "      <td>6</td>\n",
       "      <td>75k - 100k</td>\n",
       "    </tr>\n",
       "    <tr>\n",
       "      <th>79611</th>\n",
       "      <td>MAA</td>\n",
       "      <td>2017</td>\n",
       "      <td>BLACK</td>\n",
       "      <td>VOLKSWAGEN</td>\n",
       "      <td>PASSAT 4C</td>\n",
       "      <td>4DSN</td>\n",
       "      <td>4GT</td>\n",
       "      <td>A</td>\n",
       "      <td>24620.0</td>\n",
       "      <td>28</td>\n",
       "      <td>1.0</td>\n",
       "      <td>4905414.0</td>\n",
       "      <td>14400.0</td>\n",
       "      <td>2019</td>\n",
       "      <td>6</td>\n",
       "      <td>&lt; 25k</td>\n",
       "    </tr>\n",
       "    <tr>\n",
       "      <th>79612</th>\n",
       "      <td>MAA</td>\n",
       "      <td>2017</td>\n",
       "      <td>GRAY</td>\n",
       "      <td>VOLKSWAGEN</td>\n",
       "      <td>JETTA</td>\n",
       "      <td>4DSN</td>\n",
       "      <td>4GT</td>\n",
       "      <td>A</td>\n",
       "      <td>42364.0</td>\n",
       "      <td>23</td>\n",
       "      <td>1.0</td>\n",
       "      <td>4919311.0</td>\n",
       "      <td>9700.0</td>\n",
       "      <td>2019</td>\n",
       "      <td>6</td>\n",
       "      <td>25k - 50k</td>\n",
       "    </tr>\n",
       "    <tr>\n",
       "      <th>79613</th>\n",
       "      <td>SLAA</td>\n",
       "      <td>2011</td>\n",
       "      <td>BLUE</td>\n",
       "      <td>VOLKSWAGEN</td>\n",
       "      <td>JETTA 5C</td>\n",
       "      <td>4DSN</td>\n",
       "      <td>5G</td>\n",
       "      <td>A</td>\n",
       "      <td>125802.0</td>\n",
       "      <td>20</td>\n",
       "      <td>2.0</td>\n",
       "      <td>5034660.0</td>\n",
       "      <td>3600.0</td>\n",
       "      <td>2019</td>\n",
       "      <td>6</td>\n",
       "      <td>&gt; 100k</td>\n",
       "    </tr>\n",
       "  </tbody>\n",
       "</table>\n",
       "<p>61251 rows × 16 columns</p>\n",
       "</div>"
      ],
      "text/plain": [
       "      auction_code  car_year   color        make       model  body engine  \\\n",
       "1             AYCA      2009   BLACK  VOLKSWAGEN  TIGUAN AWD   SUV    4GT   \n",
       "2             AYCA      2009  SILVER  VOLKSWAGEN      ROUTAN   VAN     6G   \n",
       "3             AYCA      2014     TAN  VOLKSWAGEN    JETTA 4C  4DSN    4GT   \n",
       "6             NADE      2012   BLACK  VOLKSWAGEN  TIGUAN FWD   SUV    4GT   \n",
       "7             GOAA      2016   WHITE  VOLKSWAGEN   PASSAT 4C  4DSN    4GT   \n",
       "...            ...       ...     ...         ...         ...   ...    ...   \n",
       "79609          MAA      2017     RED  VOLKSWAGEN        GOLF  4DHB    4GT   \n",
       "79610          MAA      2015   WHITE  VOLKSWAGEN       JETTA  4DSN    4GT   \n",
       "79611          MAA      2017   BLACK  VOLKSWAGEN   PASSAT 4C  4DSN    4GT   \n",
       "79612          MAA      2017    GRAY  VOLKSWAGEN       JETTA  4DSN    4GT   \n",
       "79613         SLAA      2011    BLUE  VOLKSWAGEN    JETTA 5C  4DSN     5G   \n",
       "\n",
       "      transmission   mileage  condition_grade  times_run     seller  \\\n",
       "1                A   96696.0               34        1.0  5177137.0   \n",
       "2                A   92321.0               31        1.0  4925422.0   \n",
       "3                A   70568.0               27        1.0  4925422.0   \n",
       "6                A   85124.0               38        6.0  5322633.0   \n",
       "7                A   16947.0               46        2.0  4905415.0   \n",
       "...            ...       ...              ...        ...        ...   \n",
       "79609            A   22279.0               28        1.0  4905414.0   \n",
       "79610            A   76514.0               21        1.0  4905415.0   \n",
       "79611            A   24620.0               28        1.0  4905414.0   \n",
       "79612            A   42364.0               23        1.0  4919311.0   \n",
       "79613            A  125802.0               20        2.0  5034660.0   \n",
       "\n",
       "       sale_price  sold_date_year  sold_date_month vehicle_mileage_category  \n",
       "1          7100.0            2017                1               75k - 100k  \n",
       "2          5800.0            2017                1               75k - 100k  \n",
       "3          4500.0            2017                1                50k - 75k  \n",
       "6          8300.0            2017                1               75k - 100k  \n",
       "7         13800.0            2017                1                    < 25k  \n",
       "...           ...             ...              ...                      ...  \n",
       "79609     13600.0            2019                6                    < 25k  \n",
       "79610      3600.0            2019                6               75k - 100k  \n",
       "79611     14400.0            2019                6                    < 25k  \n",
       "79612      9700.0            2019                6                25k - 50k  \n",
       "79613      3600.0            2019                6                   > 100k  \n",
       "\n",
       "[61251 rows x 16 columns]"
      ]
     },
     "execution_count": 18,
     "metadata": {},
     "output_type": "execute_result"
    }
   ],
   "source": [
    "cut_points = [25000, 50000, 75000, 100000]\n",
    "labels = ['< 25k', '25k - 50k', '50k - 75k', '75k - 100k', '> 100k']\n",
    "clean_df1['vehicle_mileage_category'] = binning_function(clean_df1['mileage'], cut_points, labels)\n",
    "clean_df1"
   ]
  },
  {
   "cell_type": "code",
   "execution_count": 19,
   "metadata": {
    "pycharm": {
     "name": "#%%\n"
    }
   },
   "outputs": [
    {
     "data": {
      "text/plain": [
       "100.0"
      ]
     },
     "execution_count": 19,
     "metadata": {},
     "output_type": "execute_result"
    }
   ],
   "source": [
    "clean_df1['sale_price'].max()\n",
    "clean_df1['sale_price'].min()"
   ]
  },
  {
   "cell_type": "code",
   "execution_count": 20,
   "metadata": {
    "pycharm": {
     "name": "#%%\n"
    }
   },
   "outputs": [],
   "source": [
    "df1_dummies = pd.get_dummies(clean_df1)\n",
    "# df2_dummies = pd.get_dummies(clean_df2)\n",
    "# df3_dummies = pd.get_dummies(clean_df3)\n",
    "# df4_dummies = pd.get_dummies(clean_df4)\n",
    "# df5_dummies = pd.get_dummies(clean_df5)\n",
    "# df6_dummies = pd.get_dummies(no_dups_df6)\n",
    "# df7_dummies = pd.get_dummies(clean_df7)"
   ]
  },
  {
   "cell_type": "code",
   "execution_count": 21,
   "metadata": {
    "pycharm": {
     "name": "#%%\n"
    }
   },
   "outputs": [],
   "source": [
    "# Drop the label to create the X data\n",
    "X_1 = df1_dummies.drop('sale_price', axis=1)\n",
    "# X_2 = df2_dummies.drop('sale_price', axis=1)\n",
    "# X_3 = df3_dummies.drop('sale_price', axis=1)\n",
    "# X_4 = df4_dummies.drop('sale_price', axis=1)\n",
    "# X_5 = df5_dummies.drop('sale_price', axis=1)\n",
    "# X_6 = df6_dummies.drop('sale_price', axis=1)\n",
    "# X_7 = df7_dummies.drop('sale_price', axis=1)\n"
   ]
  },
  {
   "cell_type": "code",
   "execution_count": 22,
   "metadata": {
    "pycharm": {
     "name": "#%%\n"
    }
   },
   "outputs": [],
   "source": [
    "y_1 = df1_dummies[\"sale_price\"]\n",
    "# y_2 = df2_dummies[\"sale_price\"]\n",
    "# y_3 = df3_dummies[\"sale_price\"]\n",
    "# y_4 = df4_dummies[\"sale_price\"]\n",
    "# y_5 = df5_dummies[\"sale_price\"]\n",
    "# y_6 = df6_dummies[\"sale_price\"]\n",
    "# y_7 = df7_dummies[\"sale_price\"]"
   ]
  },
  {
   "cell_type": "code",
   "execution_count": 23,
   "metadata": {
    "pycharm": {
     "name": "#%%\n"
    }
   },
   "outputs": [],
   "source": [
    "X_train1, X_test1, y_train1, y_test1 = train_test_split(X_1, y_1, random_state=1)\n",
    "# X_train2, X_test2, y_train2, y_test2 = train_test_split(X_2, y_2, random_state=1)\n",
    "# X_train3, X_test3, y_train3, y_test3 = train_test_split(X_3, y_3, random_state=1)\n",
    "# X_train4, X_test4, y_train4, y_test4 = train_test_split(X_4, y_4, random_state=1)\n",
    "# X_train5, X_test5, y_train5, y_test5 = train_test_split(X_5, y_5, random_state=1)\n",
    "# X_train6, X_test6, y_train6, y_test6 = train_test_split(X_6, y_6, random_state=1)\n",
    "# X_train7, X_test7, y_train7, y_test7 = train_test_split(X_7, y_7, random_state=1)"
   ]
  },
  {
   "cell_type": "code",
   "execution_count": 24,
   "metadata": {
    "pycharm": {
     "name": "#%%\n"
    }
   },
   "outputs": [
    {
     "data": {
      "text/plain": [
       "array([[-0.0118261 , -0.66807612, -0.05064064, ..., -0.39366942,\n",
       "        -0.36152184, -0.43964507],\n",
       "       [ 1.18810175, -1.12559311,  0.79935425, ..., -0.39366942,\n",
       "        -0.36152184, -0.43964507],\n",
       "       [ 0.88811979,  0.6238971 , -2.38812658, ..., -0.39366942,\n",
       "         2.76608462, -0.43964507],\n",
       "       ...,\n",
       "       [ 0.28815586,  0.54582106,  0.3743568 , ..., -0.39366942,\n",
       "         2.76608462, -0.43964507],\n",
       "       [-0.0118261 , -0.54801685,  1.22435169, ..., -0.39366942,\n",
       "        -0.36152184, -0.43964507],\n",
       "       [ 0.88811979, -0.64608382, -0.26313936, ..., -0.39366942,\n",
       "        -0.36152184, -0.43964507]])"
      ]
     },
     "execution_count": 24,
     "metadata": {},
     "output_type": "execute_result"
    }
   ],
   "source": [
    "# Scaling the X data by using StandardScaler()\n",
    "scaler = StandardScaler().fit(X_train1)\n",
    "X_train_scaled1 = scaler.transform(X_train1)\n",
    "X_test_scaled1 = scaler.transform(X_test1)\n",
    "X_train_scaled1\n",
    "X_test_scaled1"
   ]
  },
  {
   "cell_type": "code",
   "execution_count": 25,
   "metadata": {
    "pycharm": {
     "name": "#%%\n"
    }
   },
   "outputs": [],
   "source": [
    "# Passing through lasso regression\n",
    "from sklearn.linear_model import LinearRegression, Ridge, Lasso, ElasticNet\n",
    "\n",
    "# Fit a LASSO regression to the data - train the model\n",
    "# reg = Lasso().fit(X_train_scaled1, y_train1)\n",
    "reg1 = Ridge().fit(X_train_scaled1, y_train1)"
   ]
  },
  {
   "cell_type": "code",
   "execution_count": 26,
   "metadata": {
    "pycharm": {
     "name": "#%%\n"
    }
   },
   "outputs": [
    {
     "name": "stdout",
     "output_type": "stream",
     "text": [
      "0.8558327212483117\n",
      "[ 9931.47544165 13057.74160676  4059.67503376 ...  7109.47151058\n",
      "  9832.3647695   9044.05056758]\n"
     ]
    },
    {
     "data": {
      "text/plain": [
       "3659706.280790022"
      ]
     },
     "execution_count": 26,
     "metadata": {},
     "output_type": "execute_result"
    }
   ],
   "source": [
    "r2 = reg1.score(X_test_scaled1, y_test1)\n",
    "print(r2)\n",
    "from sklearn.metrics import mean_squared_error\n",
    "y_predict = reg1.predict(X_test_scaled1)\n",
    "print(y_predict)\n",
    "mean_squared_error(y_test1, y_predict)"
   ]
  },
  {
   "cell_type": "code",
   "execution_count": null,
   "metadata": {},
   "outputs": [],
   "source": []
  },
  {
   "cell_type": "code",
   "execution_count": 39,
   "metadata": {
    "pycharm": {
     "name": "#%%\n"
    }
   },
   "outputs": [
    {
     "data": {
      "text/plain": [
       "array([ 9931.47544165, 13057.74160676,  4059.67503376, ...,\n",
       "        7109.47151058,  9832.3647695 ,  9044.05056758])"
      ]
     },
     "execution_count": 39,
     "metadata": {},
     "output_type": "execute_result"
    }
   ],
   "source": [
    "import pickle\n",
    "\n",
    "\n",
    "model = pickle.dumps(reg1)\n",
    "\n",
    "reg_from_pickle = pickle.loads(model)\n",
    "\n",
    "reg_from_pickle.predict(X_test_scaled1)"
   ]
  },
  {
   "cell_type": "code",
   "execution_count": null,
   "metadata": {
    "pycharm": {
     "name": "#%%\n"
    }
   },
   "outputs": [],
   "source": []
  },
  {
   "cell_type": "code",
   "execution_count": null,
   "metadata": {
    "pycharm": {
     "name": "#%%\n"
    }
   },
   "outputs": [],
   "source": []
  },
  {
   "cell_type": "code",
   "execution_count": null,
   "metadata": {
    "pycharm": {
     "name": "#%%\n"
    }
   },
   "outputs": [],
   "source": []
  }
 ],
 "metadata": {
  "kernelspec": {
   "display_name": "Python 3",
   "language": "python",
   "name": "python3"
  },
  "language_info": {
   "codemirror_mode": {
    "name": "ipython",
    "version": 3
   },
   "file_extension": ".py",
   "mimetype": "text/x-python",
   "name": "python",
   "nbconvert_exporter": "python",
   "pygments_lexer": "ipython3",
   "version": "3.8.8"
  }
 },
 "nbformat": 4,
 "nbformat_minor": 1
}